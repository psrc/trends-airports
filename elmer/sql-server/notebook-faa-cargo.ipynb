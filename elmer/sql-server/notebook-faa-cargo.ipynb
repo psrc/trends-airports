{
    "metadata": {
        "kernelspec": {
            "name": "SQL",
            "display_name": "SQL",
            "language": "sql"
        },
        "language_info": {
            "name": "sql",
            "version": ""
        }
    },
    "nbformat_minor": 2,
    "nbformat": 4,
    "cells": [
        {
            "cell_type": "markdown",
            "source": [
                "#### Initializing Dims and Facts (once only)\r\n",
                "* Create empty table for facts. Dims will be added to faa.airport_dims\r\n",
                "* Create dims stored procedures and execute\r\n",
                "* Create facts stored procedures and execute  \r\n",
                "\r\n",
                "#### Updating Dims and Facts with new data\r\n",
                "* Run R script to prep data for staging area ([elmer_prep_faa_cargo.R](https://github.com/psrc/trends-airports/blob/master/elmer/elmer_prep_faa_cargo.R))\r\n",
                "* Execute dims stored procedures\r\n",
                "* Execute facts stored procedures"
            ],
            "metadata": {
                "azdata_cell_guid": "56eca8e5-a47a-4cd9-9a3a-f51c23942aeb"
            }
        },
        {
            "cell_type": "code",
            "source": [
                "SELECT top 10 *\r\n",
                "FROM Sandbox.Christy.faa_cargo;"
            ],
            "metadata": {
                "azdata_cell_guid": "2430e08e-91f2-4bbc-8fe2-ac6b8af76901"
            },
            "outputs": [],
            "execution_count": 4
        },
        {
            "cell_type": "code",
            "source": [
                "SELECT *\r\n",
                "FROM stg.faa_cargo;"
            ],
            "metadata": {
                "azdata_cell_guid": "3e13f7d7-a7a4-4278-be93-2deb23958c38"
            },
            "outputs": [],
            "execution_count": 13
        },
        {
            "cell_type": "markdown",
            "source": [
                "# Dimensions"
            ],
            "metadata": {
                "azdata_cell_guid": "9aa05778-1e7c-4e13-82b1-c6b6f3788dc4"
            }
        },
        {
            "cell_type": "markdown",
            "source": [
                "Create/alter dims stored procedure that adds on to faa.aiport_dims"
            ],
            "metadata": {
                "azdata_cell_guid": "5d4f12e5-bbaf-4876-a2ca-c656cf060b4c"
            }
        },
        {
            "cell_type": "code",
            "source": [
                "ALTER PROCEDURE [faa].[merge_cargo_dim]\r\n",
                "as\r\n",
                "\r\n",
                ";with cte as (\r\n",
                "\tselect ISNULL(RO, '--') AS RO, \r\n",
                "\t\tISNULL(ST, '--') AS ST, \r\n",
                "\t\tISNULL(Locid, '--') as Locid, \r\n",
                "\t\tISNULL(City, '--') as City, \r\n",
                "\t\tISNULL(Airportname, '--') as Airportname, \r\n",
                "\t\tISNULL(SL, '--') as SL, \r\n",
                "\t\tISNULL(Hub, '--') as Hub\r\n",
                "\t--from Sandbox.Christy.faa_cargo\r\n",
                "    from stg.faa_cargo\r\n",
                "\tgroup by RO, ST, Locid, City, Airportname, SL, Hub\r\n",
                ")\r\n",
                "MERGE  faa.airport_dims as target\r\n",
                "USING cte as source\r\n",
                "ON (\r\n",
                "\ttarget.ro = source.RO\r\n",
                "\tand target.st = source.ST\r\n",
                "\tand target.loc_id = source.Locid\r\n",
                "\tand target.city_name = source.City\r\n",
                "\tand target.airport_name = source.Airportname\r\n",
                "\tand target.sl = source.SL\r\n",
                "\tand target.hub = source.Hub\r\n",
                ")\r\n",
                "WHEN NOT MATCHED THEN \r\n",
                "INSERT (ro, st, loc_id, city_name, airport_name, sl, hub)\r\n",
                "VALUES (source.RO, \r\n",
                "\tsource.ST,\r\n",
                "\tsource.Locid,\r\n",
                "\tsource.City,\r\n",
                "\tsource.Airportname,\r\n",
                "\tsource.SL,\r\n",
                "\tsource.Hub\r\n",
                ");"
            ],
            "metadata": {
                "azdata_cell_guid": "8465a4cb-e255-42ee-94dc-7b4b8115df0d"
            },
            "outputs": [
                {
                    "output_type": "display_data",
                    "data": {
                        "text/html": "Commands completed successfully."
                    },
                    "metadata": {}
                },
                {
                    "output_type": "display_data",
                    "data": {
                        "text/html": "Total execution time: 00:00:00.014"
                    },
                    "metadata": {}
                }
            ],
            "execution_count": 14
        },
        {
            "cell_type": "markdown",
            "source": [
                "Run procedure"
            ],
            "metadata": {
                "azdata_cell_guid": "17c7d1b4-6d95-46fe-84c5-0dd981f56097"
            }
        },
        {
            "cell_type": "code",
            "source": [
                "Exec faa.merge_cargo_dim;"
            ],
            "metadata": {
                "azdata_cell_guid": "2cde3fdf-d8e0-4399-ae3f-ae0ac565c877"
            },
            "outputs": [
                {
                    "output_type": "display_data",
                    "data": {
                        "text/html": "(1 row affected)"
                    },
                    "metadata": {}
                },
                {
                    "output_type": "display_data",
                    "data": {
                        "text/html": "Total execution time: 00:00:00.068"
                    },
                    "metadata": {}
                }
            ],
            "execution_count": 15
        },
        {
            "cell_type": "markdown",
            "source": [
                "Check faa.airport_dim"
            ],
            "metadata": {
                "azdata_cell_guid": "ab0502e4-43b0-481b-b21c-4a6d7ea118e1"
            }
        },
        {
            "cell_type": "code",
            "source": [
                "SELECT *\r\n",
                "FROM faa.airport_dims;"
            ],
            "metadata": {
                "azdata_cell_guid": "4e81fe5d-0974-4c08-bdbf-9dbe372b8236"
            },
            "outputs": [],
            "execution_count": 16
        },
        {
            "cell_type": "markdown",
            "source": [
                "# Facts"
            ],
            "metadata": {
                "azdata_cell_guid": "f38c26c0-afb7-421b-a500-b9d6868f368c"
            }
        },
        {
            "cell_type": "markdown",
            "source": [
                "Create Facts table"
            ],
            "metadata": {
                "azdata_cell_guid": "20aa88b4-6784-431a-862b-c6411055451b"
            }
        },
        {
            "cell_type": "code",
            "source": [
                "CREATE TABLE [faa].[cargo_facts](\r\n",
                "\t[cargo_fact_id] [int] IDENTITY(1,1) NOT NULL,\r\n",
                "\t[airport_dim_id] [int] NOT NULL,\r\n",
                "\t[data_year] [smallint] NOT NULL,\r\n",
                "\t[landed_weight] [float] NOT NULL,\r\n",
                " CONSTRAINT [pk_cargo_facts] PRIMARY KEY NONCLUSTERED \r\n",
                "(\r\n",
                "\t[airport_dim_id] ASC,\r\n",
                "\t[data_year] ASC\r\n",
                ")WITH (PAD_INDEX = OFF, STATISTICS_NORECOMPUTE = OFF, IGNORE_DUP_KEY = OFF, ALLOW_ROW_LOCKS = ON, ALLOW_PAGE_LOCKS = ON) ON [PRIMARY]\r\n",
                ") ON [PRIMARY]\r\n",
                "GO\r\n",
                "CREATE CLUSTERED INDEX [idx_cargo_facts_clustered] ON [faa].[cargo_facts]\r\n",
                "(\r\n",
                "\t[cargo_fact_id] ASC\r\n",
                ")WITH (PAD_INDEX = OFF, STATISTICS_NORECOMPUTE = OFF, SORT_IN_TEMPDB = OFF, DROP_EXISTING = OFF, ONLINE = OFF, ALLOW_ROW_LOCKS = ON, ALLOW_PAGE_LOCKS = ON) ON [PRIMARY]\r\n",
                "GO"
            ],
            "metadata": {
                "azdata_cell_guid": "eaf4e24f-43ce-4b57-aeb6-f6cc08606531"
            },
            "outputs": [
                {
                    "output_type": "error",
                    "ename": "",
                    "evalue": "Msg 2714, Level 16, State 6, Line 1\r\nThere is already an object named 'cargo_facts' in the database.",
                    "traceback": []
                },
                {
                    "output_type": "display_data",
                    "data": {
                        "text/html": "Commands completed successfully."
                    },
                    "metadata": {}
                },
                {
                    "output_type": "display_data",
                    "data": {
                        "text/html": "Total execution time: 00:00:00.027"
                    },
                    "metadata": {}
                }
            ],
            "execution_count": 1
        },
        {
            "cell_type": "markdown",
            "source": [
                "Check empty table"
            ],
            "metadata": {
                "azdata_cell_guid": "3160624f-3512-44a3-85a5-6f3145510759"
            }
        },
        {
            "cell_type": "code",
            "source": [
                "SELECT * \r\n",
                "FROM Elmer.faa.cargo_facts;"
            ],
            "metadata": {
                "azdata_cell_guid": "457c3602-e6cd-4da6-9973-01ed8c335880"
            },
            "outputs": [
                {
                    "output_type": "display_data",
                    "data": {
                        "text/html": "(0 rows affected)"
                    },
                    "metadata": {}
                },
                {
                    "output_type": "display_data",
                    "data": {
                        "text/html": "Total execution time: 00:00:00.149"
                    },
                    "metadata": {}
                },
                {
                    "output_type": "execute_result",
                    "metadata": {},
                    "execution_count": 2,
                    "data": {
                        "application/vnd.dataresource+json": {
                            "schema": {
                                "fields": [
                                    {
                                        "name": "cargo_fact_id"
                                    },
                                    {
                                        "name": "airport_dim_id"
                                    },
                                    {
                                        "name": "data_year"
                                    },
                                    {
                                        "name": "landed_weight"
                                    }
                                ]
                            },
                            "data": []
                        },
                        "text/html": "<table><tr><th>cargo_fact_id</th><th>airport_dim_id</th><th>data_year</th><th>landed_weight</th></tr></table>"
                    }
                }
            ],
            "execution_count": 2
        },
        {
            "cell_type": "markdown",
            "source": [
                "#### Alter a stored procedure for merging FAA Cargo Facts"
            ],
            "metadata": {
                "azdata_cell_guid": "770d462b-3c92-4caa-87e4-26407b68e313"
            }
        },
        {
            "cell_type": "code",
            "source": [
                "ALTER PROCEDURE [faa].[merge_cargo_facts] \r\n",
                "as\r\n",
                "\r\n",
                ";with cte as (\r\n",
                "\tselect ad.airport_dim_id, fe.landed_weight, fe.year\r\n",
                "    from stg.faa_cargo as fe \r\n",
                "\t--from Sandbox.Christy.faa_cargo as fe\r\n",
                "        INNER JOIN Elmer.faa.airport_dims as ad\r\n",
                "        ON fe.RO = ad.ro\r\n",
                "        and fe.ST = ad.st\r\n",
                "        and fe.Locid = ad.loc_id\r\n",
                "        and fe.City = ad.city_name\r\n",
                "        and fe.Airportname = ad.airport_name\r\n",
                "        and fe.SL = ad.sl\r\n",
                "        and fe.Hub = ad.hub\r\n",
                ")\r\n",
                "MERGE faa.cargo_facts as target\r\n",
                "USING cte as source\r\n",
                "ON (target.airport_dim_id = source.airport_dim_id\r\n",
                "\tand target.landed_weight = source.landed_weight\r\n",
                "\tand target.data_year = source.year\r\n",
                ")\r\n",
                "WHEN NOT MATCHED THEN \r\n",
                "INSERT (airport_dim_id, data_year, landed_weight)\r\n",
                "VALUES (source.airport_dim_id,\r\n",
                "    source.year, \r\n",
                "\tsource.landed_weight\r\n",
                ");"
            ],
            "metadata": {
                "azdata_cell_guid": "08eeb3bb-eed3-4b3d-808a-7d32573bb4e7"
            },
            "outputs": [
                {
                    "output_type": "display_data",
                    "data": {
                        "text/html": "Commands completed successfully."
                    },
                    "metadata": {}
                },
                {
                    "output_type": "display_data",
                    "data": {
                        "text/html": "Total execution time: 00:00:00.016"
                    },
                    "metadata": {}
                }
            ],
            "execution_count": 17
        },
        {
            "cell_type": "markdown",
            "source": [
                "Run stored procedure"
            ],
            "metadata": {
                "azdata_cell_guid": "1bc97b0f-4ae5-493a-a910-adf9262e4e99"
            }
        },
        {
            "cell_type": "code",
            "source": [
                "EXEC faa.merge_cargo_facts;"
            ],
            "metadata": {
                "azdata_cell_guid": "d3da11bc-81b4-4597-8098-035a21cf6695"
            },
            "outputs": [],
            "execution_count": 18
        },
        {
            "cell_type": "code",
            "source": [
                "SELECT ad.*, cf.*\r\n",
                "FROM faa.cargo_facts as cf \r\n",
                "JOIN faa.airport_dims as ad\r\n",
                "ON cf.airport_dim_id = ad.airport_dim_id\r\n",
                "WHERE city_name = 'Memphis';"
            ],
            "metadata": {
                "azdata_cell_guid": "9125e0e9-b42b-42bd-b20c-774943ca9ea6"
            },
            "outputs": [],
            "execution_count": 19
        }
    ]
}