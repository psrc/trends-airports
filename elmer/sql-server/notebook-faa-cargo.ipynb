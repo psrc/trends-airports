{
    "metadata": {
        "kernelspec": {
            "name": "SQL",
            "display_name": "SQL",
            "language": "sql"
        },
        "language_info": {
            "name": "sql",
            "version": ""
        }
    },
    "nbformat_minor": 2,
    "nbformat": 4,
    "cells": [
        {
            "cell_type": "markdown",
            "source": [
                "#### Initializing Dims and Facts (once only)\r\n",
                "* Create empty table for facts. Dims will be added to faa.airport_dims\r\n",
                "* Create dims stored procedures and execute\r\n",
                "* Create facts stored procedures and execute  \r\n",
                "\r\n",
                "#### Updating Dims and Facts with new data\r\n",
                "* Run R script to prep data for staging area ([elmer_prep_faa_cargo.R](https://github.com/psrc/trends-airports/blob/master/elmer/elmer_prep_faa_cargo.R))\r\n",
                "* Execute dims stored procedures\r\n",
                "* Execute facts stored procedures"
            ],
            "metadata": {
                "azdata_cell_guid": "56eca8e5-a47a-4cd9-9a3a-f51c23942aeb"
            }
        },
        {
            "cell_type": "code",
            "source": [
                "SELECT top 10 *\r\n",
                "FROM Sandbox.Christy.faa_cargo;"
            ],
            "metadata": {
                "azdata_cell_guid": "2430e08e-91f2-4bbc-8fe2-ac6b8af76901"
            },
            "outputs": [],
            "execution_count": 4
        },
        {
            "cell_type": "code",
            "source": [
                "SELECT DISTINCT [YEAR]\r\n",
                "FROM Sandbox.Christy.faa_cargo;"
            ],
            "metadata": {
                "azdata_cell_guid": "5809f2dd-c1c1-437d-9307-7fd007fde5b3"
            },
            "outputs": [
                {
                    "output_type": "display_data",
                    "data": {
                        "text/html": "(10 rows affected)"
                    },
                    "metadata": {}
                },
                {
                    "output_type": "display_data",
                    "data": {
                        "text/html": "Total execution time: 00:00:00.043"
                    },
                    "metadata": {}
                },
                {
                    "output_type": "execute_result",
                    "execution_count": 1,
                    "data": {
                        "application/vnd.dataresource+json": {
                            "schema": {
                                "fields": [
                                    {
                                        "name": "YEAR"
                                    }
                                ]
                            },
                            "data": [
                                {
                                    "0": "2015"
                                },
                                {
                                    "0": "2014"
                                },
                                {
                                    "0": "2009"
                                },
                                {
                                    "0": "2013"
                                },
                                {
                                    "0": "2008"
                                },
                                {
                                    "0": "2012"
                                },
                                {
                                    "0": "2011"
                                },
                                {
                                    "0": "2016"
                                },
                                {
                                    "0": "2010"
                                },
                                {
                                    "0": "2017"
                                }
                            ]
                        },
                        "text/html": "<table><tr><th>YEAR</th></tr><tr><td>2015</td></tr><tr><td>2014</td></tr><tr><td>2009</td></tr><tr><td>2013</td></tr><tr><td>2008</td></tr><tr><td>2012</td></tr><tr><td>2011</td></tr><tr><td>2016</td></tr><tr><td>2010</td></tr><tr><td>2017</td></tr></table>"
                    },
                    "metadata": {}
                }
            ],
            "execution_count": 1
        },
        {
            "cell_type": "code",
            "source": [
                "SELECT *\r\n",
                "FROM Sandbox.Christy.faa_cargo\r\n",
                "WHERE year = 2014;"
            ],
            "metadata": {
                "azdata_cell_guid": "0d32825d-e2f3-40be-9681-005ffa917e10"
            },
            "outputs": [
                {
                    "output_type": "display_data",
                    "data": {
                        "text/html": "(132 rows affected)"
                    },
                    "metadata": {}
                },
                {
                    "output_type": "display_data",
                    "data": {
                        "text/html": "Total execution time: 00:00:00.031"
                    },
                    "metadata": {}
                },
                {
                    "output_type": "execute_result",
                    "metadata": {},
                    "execution_count": 18,
                    "data": {
                        "application/vnd.dataresource+json": {
                            "schema": {
                                "fields": [
                                    {
                                        "name": "Rank"
                                    },
                                    {
                                        "name": "Locid"
                                    },
                                    {
                                        "name": "RO"
                                    },
                                    {
                                        "name": "ST"
                                    },
                                    {
                                        "name": "City"
                                    },
                                    {
                                        "name": "Airportname"
                                    },
                                    {
                                        "name": "SL"
                                    },
                                    {
                                        "name": "Hub"
                                    },
                                    {
                                        "name": "landed_weight"
                                    },
                                    {
                                        "name": "year"
                                    }
                                ]
                            },
                            "data": [
                                {
                                    "0": "1",
                                    "1": "MEM",
                                    "2": "SO",
                                    "3": "TN",
                                    "4": "Memphis",
                                    "5": "Memphis International",
                                    "6": "NULL",
                                    "7": "M",
                                    "8": "22774592279",
                                    "9": "2014"
                                },
                                {
                                    "0": "2",
                                    "1": "ANC",
                                    "2": "AL",
                                    "3": "AK",
                                    "4": "Anchorage",
                                    "5": "Ted Stevens Anchorage International",
                                    "6": "NULL",
                                    "7": "M",
                                    "8": "15867941046",
                                    "9": "2014"
                                },
                                {
                                    "0": "3",
                                    "1": "SDF",
                                    "2": "SO",
                                    "3": "KY",
                                    "4": "Louisville",
                                    "5": "Louisville International-Standiford Field",
                                    "6": "NULL",
                                    "7": "S",
                                    "8": "11568369154",
                                    "9": "2014"
                                },
                                {
                                    "0": "4",
                                    "1": "ORD",
                                    "2": "GL",
                                    "3": "IL",
                                    "4": "Chicago",
                                    "5": "Chicago O'Hare International",
                                    "6": "NULL",
                                    "7": "L",
                                    "8": "7541411779",
                                    "9": "2014"
                                },
                                {
                                    "0": "5",
                                    "1": "MIA",
                                    "2": "SO",
                                    "3": "FL",
                                    "4": "Miami",
                                    "5": "Miami International",
                                    "6": "NULL",
                                    "7": "L",
                                    "8": "7192790882",
                                    "9": "2014"
                                },
                                {
                                    "0": "6",
                                    "1": "IND",
                                    "2": "GL",
                                    "3": "IN",
                                    "4": "Indianapolis",
                                    "5": "Indianapolis International",
                                    "6": "NULL",
                                    "7": "M",
                                    "8": "5355984715",
                                    "9": "2014"
                                },
                                {
                                    "0": "7",
                                    "1": "LAX",
                                    "2": "WP",
                                    "3": "CA",
                                    "4": "Los Angeles",
                                    "5": "Los Angeles International",
                                    "6": "NULL",
                                    "7": "L",
                                    "8": "4297359912",
                                    "9": "2014"
                                },
                                {
                                    "0": "8",
                                    "1": "CVG",
                                    "2": "SO",
                                    "3": "KY",
                                    "4": "Greater Cincinnati International Airport",
                                    "5": "Cincinnati/Northern Kentucky International",
                                    "6": "NULL",
                                    "7": "M",
                                    "8": "3644404568",
                                    "9": "2014"
                                },
                                {
                                    "0": "9",
                                    "1": "JFK",
                                    "2": "EA",
                                    "3": "NY",
                                    "4": "New York",
                                    "5": "John F Kennedy International",
                                    "6": "NULL",
                                    "7": "L",
                                    "8": "3170996874",
                                    "9": "2014"
                                },
                                {
                                    "0": "10",
                                    "1": "DFW",
                                    "2": "SW",
                                    "3": "TX",
                                    "4": "Fort Worth",
                                    "5": "Dallas/Fort Worth International",
                                    "6": "NULL",
                                    "7": "L",
                                    "8": "3140733270",
                                    "9": "2014"
                                },
                                {
                                    "0": "11",
                                    "1": "OAK",
                                    "2": "WP",
                                    "3": "CA",
                                    "4": "Oakland",
                                    "5": "Metropolitan Oakland International",
                                    "6": "NULL",
                                    "7": "M",
                                    "8": "2954355995",
                                    "9": "2014"
                                },
                                {
                                    "0": "12",
                                    "1": "EWR",
                                    "2": "EA",
                                    "3": "NJ",
                                    "4": "Newark",
                                    "5": "Newark Liberty International",
                                    "6": "NULL",
                                    "7": "L",
                                    "8": "2499283148",
                                    "9": "2014"
                                },
                                {
                                    "0": "13",
                                    "1": "ONT",
                                    "2": "WP",
                                    "3": "CA",
                                    "4": "Ontario",
                                    "5": "Ontario International",
                                    "6": "NULL",
                                    "7": "M",
                                    "8": "2360845923",
                                    "9": "2014"
                                },
                                {
                                    "0": "14",
                                    "1": "ATL",
                                    "2": "SO",
                                    "3": "GA",
                                    "4": "Atlanta",
                                    "5": "Hartsfield - Jackson Atlanta International",
                                    "6": "NULL",
                                    "7": "L",
                                    "8": "2262892910",
                                    "9": "2014"
                                },
                                {
                                    "0": "15",
                                    "1": "HNL",
                                    "2": "WP",
                                    "3": "HI",
                                    "4": "Honolulu",
                                    "5": "Honolulu International",
                                    "6": "NULL",
                                    "7": "L",
                                    "8": "2189120700",
                                    "9": "2014"
                                },
                                {
                                    "0": "16",
                                    "1": "PHL",
                                    "2": "EA",
                                    "3": "PA",
                                    "4": "Philadelphia",
                                    "5": "Philadelphia International",
                                    "6": "NULL",
                                    "7": "L",
                                    "8": "1927756545",
                                    "9": "2014"
                                },
                                {
                                    "0": "17",
                                    "1": "IAH",
                                    "2": "SW",
                                    "3": "TX",
                                    "4": "Houston",
                                    "5": "George Bush Intercontinental/Houston",
                                    "6": "NULL",
                                    "7": "L",
                                    "8": "1734461801",
                                    "9": "2014"
                                },
                                {
                                    "0": "18",
                                    "1": "SEA",
                                    "2": "NM",
                                    "3": "WA",
                                    "4": "Seattle",
                                    "5": "Seattle-Tacoma International",
                                    "6": "NULL",
                                    "7": "L",
                                    "8": "1574603394",
                                    "9": "2014"
                                },
                                {
                                    "0": "19",
                                    "1": "PHX",
                                    "2": "WP",
                                    "3": "AZ",
                                    "4": "Phoenix",
                                    "5": "Phoenix Sky Harbor International",
                                    "6": "NULL",
                                    "7": "L",
                                    "8": "1436921968",
                                    "9": "2014"
                                },
                                {
                                    "0": "20",
                                    "1": "DEN",
                                    "2": "NM",
                                    "3": "CO",
                                    "4": "Denver",
                                    "5": "Denver International",
                                    "6": "NULL",
                                    "7": "L",
                                    "8": "1314752910",
                                    "9": "2014"
                                },
                                {
                                    "0": "21",
                                    "1": "SFO",
                                    "2": "WP",
                                    "3": "CA",
                                    "4": "San Francisco International Airport",
                                    "5": "San Francisco International",
                                    "6": "NULL",
                                    "7": "L",
                                    "8": "1245416930",
                                    "9": "2014"
                                },
                                {
                                    "0": "22",
                                    "1": "PDX",
                                    "2": "NM",
                                    "3": "OR",
                                    "4": "Portland",
                                    "5": "Portland International",
                                    "6": "NULL",
                                    "7": "L",
                                    "8": "1126448683",
                                    "9": "2014"
                                },
                                {
                                    "0": "23",
                                    "1": "MSP",
                                    "2": "GL",
                                    "3": "MN",
                                    "4": "Minneapolis",
                                    "5": "Minneapolis-St Paul International/Wold-Chamberlain",
                                    "6": "NULL",
                                    "7": "L",
                                    "8": "972664080",
                                    "9": "2014"
                                },
                                {
                                    "0": "24",
                                    "1": "SLC",
                                    "2": "NM",
                                    "3": "UT",
                                    "4": "Salt Lake City",
                                    "5": "Salt Lake City International",
                                    "6": "NULL",
                                    "7": "L",
                                    "8": "962293488",
                                    "9": "2014"
                                },
                                {
                                    "0": "25",
                                    "1": "BOS",
                                    "2": "NE",
                                    "3": "MA",
                                    "4": "Boston",
                                    "5": "General Edward Lawrence Logan International",
                                    "6": "NULL",
                                    "7": "L",
                                    "8": "910283225",
                                    "9": "2014"
                                },
                                {
                                    "0": "26",
                                    "1": "SJU",
                                    "2": "SO",
                                    "3": "PR",
                                    "4": "San Juan",
                                    "5": "Luis Munoz Marin International",
                                    "6": "NULL",
                                    "7": "M",
                                    "8": "850270758",
                                    "9": "2014"
                                },
                                {
                                    "0": "27",
                                    "1": "BFI",
                                    "2": "NM",
                                    "3": "WA",
                                    "4": "Seattle",
                                    "5": "Boeing Field/King County International",
                                    "6": "NULL",
                                    "7": "N",
                                    "8": "815258980",
                                    "9": "2014"
                                },
                                {
                                    "0": "28",
                                    "1": "RFD",
                                    "2": "GL",
                                    "3": "IL",
                                    "4": "Rockford",
                                    "5": "Chicago/Rockford International",
                                    "6": "NULL",
                                    "7": "N",
                                    "8": "788773800",
                                    "9": "2014"
                                },
                                {
                                    "0": "29",
                                    "1": "BDL",
                                    "2": "NE",
                                    "3": "CT",
                                    "4": "Windsor Locks",
                                    "5": "Bradley International",
                                    "6": "NULL",
                                    "7": "M",
                                    "8": "783504420",
                                    "9": "2014"
                                },
                                {
                                    "0": "30",
                                    "1": "MCO",
                                    "2": "SO",
                                    "3": "FL",
                                    "4": "Orlando",
                                    "5": "Orlando International",
                                    "6": "NULL",
                                    "7": "L",
                                    "8": "756120798",
                                    "9": "2014"
                                },
                                {
                                    "0": "31",
                                    "1": "SAT",
                                    "2": "SW",
                                    "3": "TX",
                                    "4": "San Antonio",
                                    "5": "San Antonio International",
                                    "6": "NULL",
                                    "7": "M",
                                    "8": "746704930",
                                    "9": "2014"
                                },
                                {
                                    "0": "32",
                                    "1": "LCK",
                                    "2": "GL",
                                    "3": "OH",
                                    "4": "Columbus",
                                    "5": "Rickenbacker International",
                                    "6": "NULL",
                                    "7": "N",
                                    "8": "734846781",
                                    "9": "2014"
                                },
                                {
                                    "0": "33",
                                    "1": "DTW",
                                    "2": "GL",
                                    "3": "MI",
                                    "4": "Detroit",
                                    "5": "Detroit Metropolitan Wayne County",
                                    "6": "NULL",
                                    "7": "L",
                                    "8": "674728030",
                                    "9": "2014"
                                },
                                {
                                    "0": "34",
                                    "1": "AFW",
                                    "2": "SW",
                                    "3": "TX",
                                    "4": "Fort Worth",
                                    "5": "Fort Worth Alliance",
                                    "6": "NULL",
                                    "7": "-",
                                    "8": "667945474",
                                    "9": "2014"
                                },
                                {
                                    "0": "35",
                                    "1": "BQN",
                                    "2": "SO",
                                    "3": "PR",
                                    "4": "Aguadilla",
                                    "5": "Rafael Hernandez",
                                    "6": "NULL",
                                    "7": "N",
                                    "8": "660524330",
                                    "9": "2014"
                                },
                                {
                                    "0": "36",
                                    "1": "SAN",
                                    "2": "WP",
                                    "3": "CA",
                                    "4": "San Diego",
                                    "5": "San Diego International",
                                    "6": "NULL",
                                    "7": "L",
                                    "8": "586689250",
                                    "9": "2014"
                                },
                                {
                                    "0": "37",
                                    "1": "ABQ",
                                    "2": "SW",
                                    "3": "NM",
                                    "4": "Albuquerque",
                                    "5": "Albuquerque International Sunport",
                                    "6": "NULL",
                                    "7": "M",
                                    "8": "569465958",
                                    "9": "2014"
                                },
                                {
                                    "0": "38",
                                    "1": "GSO",
                                    "2": "SO",
                                    "3": "NC",
                                    "4": "Greensboro",
                                    "5": "Piedmont Triad International",
                                    "6": "NULL",
                                    "7": "S",
                                    "8": "535652851",
                                    "9": "2014"
                                },
                                {
                                    "0": "39",
                                    "1": "MKE",
                                    "2": "GL",
                                    "3": "WI",
                                    "4": "Milwaukee",
                                    "5": "General Mitchell International",
                                    "6": "NULL",
                                    "7": "M",
                                    "8": "510090425",
                                    "9": "2014"
                                },
                                {
                                    "0": "40",
                                    "1": "FLL",
                                    "2": "SO",
                                    "3": "FL",
                                    "4": "Fort Lauderdale",
                                    "5": "Fort Lauderdale/Hollywood International",
                                    "6": "NULL",
                                    "7": "L",
                                    "8": "508118870",
                                    "9": "2014"
                                },
                                {
                                    "0": "41",
                                    "1": "MCI",
                                    "2": "CE",
                                    "3": "MO",
                                    "4": "Kansas City",
                                    "5": "Kansas City International",
                                    "6": "NULL",
                                    "7": "M",
                                    "8": "497633875",
                                    "9": "2014"
                                },
                                {
                                    "0": "42",
                                    "1": "ELP",
                                    "2": "SW",
                                    "3": "TX",
                                    "4": "El Paso",
                                    "5": "El Paso International",
                                    "6": "NULL",
                                    "7": "S",
                                    "8": "497118706",
                                    "9": "2014"
                                },
                                {
                                    "0": "43",
                                    "1": "BWI",
                                    "2": "EA",
                                    "3": "MD",
                                    "4": "Glen Burnie",
                                    "5": "Baltimore/Washington International Thurgood Marshall",
                                    "6": "NULL",
                                    "7": "L",
                                    "8": "487553717",
                                    "9": "2014"
                                },
                                {
                                    "0": "44",
                                    "1": "IAD",
                                    "2": "EA",
                                    "3": "VA",
                                    "4": "Dulles",
                                    "5": "Washington Dulles International",
                                    "6": "NULL",
                                    "7": "L",
                                    "8": "479925622",
                                    "9": "2014"
                                },
                                {
                                    "0": "45",
                                    "1": "MHT",
                                    "2": "NE",
                                    "3": "NH",
                                    "4": "Manchester",
                                    "5": "Manchester",
                                    "6": "NULL",
                                    "7": "S",
                                    "8": "468002490",
                                    "9": "2014"
                                },
                                {
                                    "0": "46",
                                    "1": "RNO",
                                    "2": "WP",
                                    "3": "NV",
                                    "4": "Reno",
                                    "5": "Reno/Tahoe International",
                                    "6": "NULL",
                                    "7": "S",
                                    "8": "467324320",
                                    "9": "2014"
                                },
                                {
                                    "0": "47",
                                    "1": "DSM",
                                    "2": "CE",
                                    "3": "IA",
                                    "4": "Des Moines",
                                    "5": "Des Moines International",
                                    "6": "NULL",
                                    "7": "S",
                                    "8": "451745058",
                                    "9": "2014"
                                },
                                {
                                    "0": "48",
                                    "1": "LRD",
                                    "2": "SW",
                                    "3": "TX",
                                    "4": "Laredo",
                                    "5": "Laredo International",
                                    "6": "NULL",
                                    "7": "N",
                                    "8": "441535408",
                                    "9": "2014"
                                },
                                {
                                    "0": "49",
                                    "1": "RDU",
                                    "2": "SO",
                                    "3": "NC",
                                    "4": "Raleigh",
                                    "5": "Raleigh-Durham International",
                                    "6": "NULL",
                                    "7": "M",
                                    "8": "439980600",
                                    "9": "2014"
                                },
                                {
                                    "0": "50",
                                    "1": "AUS",
                                    "2": "SW",
                                    "3": "TX",
                                    "4": "Austin",
                                    "5": "Austin-Bergstrom International",
                                    "6": "NULL",
                                    "7": "M",
                                    "8": "438339730",
                                    "9": "2014"
                                },
                                {
                                    "0": "51",
                                    "1": "HSV",
                                    "2": "SO",
                                    "3": "AL",
                                    "4": "Huntsville",
                                    "5": "Huntsville International-Carl T Jones Field",
                                    "6": "NULL",
                                    "7": "S",
                                    "8": "411062041",
                                    "9": "2014"
                                },
                                {
                                    "0": "52",
                                    "1": "RIC",
                                    "2": "EA",
                                    "3": "VA",
                                    "4": "Highland Springs",
                                    "5": "Richmond International",
                                    "6": "NULL",
                                    "7": "S",
                                    "8": "408252520",
                                    "9": "2014"
                                },
                                {
                                    "0": "53",
                                    "1": "PIT",
                                    "2": "EA",
                                    "3": "PA",
                                    "4": "Pittsburgh",
                                    "5": "Pittsburgh International",
                                    "6": "NULL",
                                    "7": "M",
                                    "8": "405850757",
                                    "9": "2014"
                                },
                                {
                                    "0": "54",
                                    "1": "GEG",
                                    "2": "NM",
                                    "3": "WA",
                                    "4": "Spokane",
                                    "5": "Spokane International",
                                    "6": "NULL",
                                    "7": "S",
                                    "8": "402626480",
                                    "9": "2014"
                                },
                                {
                                    "0": "55",
                                    "1": "JAX",
                                    "2": "SO",
                                    "3": "FL",
                                    "4": "Jacksonville",
                                    "5": "Jacksonville International",
                                    "6": "NULL",
                                    "7": "M",
                                    "8": "395653090",
                                    "9": "2014"
                                },
                                {
                                    "0": "56",
                                    "1": "TPA",
                                    "2": "SO",
                                    "3": "FL",
                                    "4": "Tampa",
                                    "5": "Tampa International",
                                    "6": "NULL",
                                    "7": "L",
                                    "8": "395335682",
                                    "9": "2014"
                                },
                                {
                                    "0": "57",
                                    "1": "CAE",
                                    "2": "SO",
                                    "3": "SC",
                                    "4": "Columbia",
                                    "5": "Columbia Metropolitan",
                                    "6": "NULL",
                                    "7": "S",
                                    "8": "394282025",
                                    "9": "2014"
                                },
                                {
                                    "0": "58",
                                    "1": "LAS",
                                    "2": "WP",
                                    "3": "NV",
                                    "4": "Las Vegas",
                                    "5": "McCarran International",
                                    "6": "NULL",
                                    "7": "L",
                                    "8": "392745700",
                                    "9": "2014"
                                },
                                {
                                    "0": "59",
                                    "1": "OMA",
                                    "2": "CE",
                                    "3": "NE",
                                    "4": "Omaha",
                                    "5": "Eppley Airfield",
                                    "6": "NULL",
                                    "7": "M",
                                    "8": "389625264",
                                    "9": "2014"
                                },
                                {
                                    "0": "60",
                                    "1": "STL",
                                    "2": "CE",
                                    "3": "MO",
                                    "4": "St. Louis",
                                    "5": "Lambert-St Louis International",
                                    "6": "NULL",
                                    "7": "M",
                                    "8": "381204028",
                                    "9": "2014"
                                },
                                {
                                    "0": "61",
                                    "1": "CLE",
                                    "2": "GL",
                                    "3": "OH",
                                    "4": "Cleveland",
                                    "5": "Cleveland-Hopkins International",
                                    "6": "NULL",
                                    "7": "M",
                                    "8": "370335804",
                                    "9": "2014"
                                },
                                {
                                    "0": "62",
                                    "1": "MHR",
                                    "2": "WP",
                                    "3": "CA",
                                    "4": "Sacramento",
                                    "5": "Sacramento Mather",
                                    "6": "NULL",
                                    "7": "-",
                                    "8": "361191250",
                                    "9": "2014"
                                },
                                {
                                    "0": "63",
                                    "1": "CLT",
                                    "2": "SO",
                                    "3": "NC",
                                    "4": "Charlotte",
                                    "5": "Charlotte/Douglas International",
                                    "6": "NULL",
                                    "7": "L",
                                    "8": "360077450",
                                    "9": "2014"
                                },
                                {
                                    "0": "64",
                                    "1": "FSD",
                                    "2": "GL",
                                    "3": "SD",
                                    "4": "Sioux Falls",
                                    "5": "Joe Foss Field",
                                    "6": "NULL",
                                    "7": "S",
                                    "8": "351194964",
                                    "9": "2014"
                                },
                                {
                                    "0": "65",
                                    "1": "BOI",
                                    "2": "NM",
                                    "3": "ID",
                                    "4": "Boise",
                                    "5": "Boise Air Terminal/Gowen Field",
                                    "6": "NULL",
                                    "7": "S",
                                    "8": "343847570",
                                    "9": "2014"
                                },
                                {
                                    "0": "66",
                                    "1": "LBB",
                                    "2": "SW",
                                    "3": "TX",
                                    "4": "Lubbock",
                                    "5": "Lubbock Preston Smith International",
                                    "6": "NULL",
                                    "7": "S",
                                    "8": "334883620",
                                    "9": "2014"
                                },
                                {
                                    "0": "67",
                                    "1": "CHS",
                                    "2": "SO",
                                    "3": "SC",
                                    "4": "Charleston",
                                    "5": "Charleston AFB/International",
                                    "6": "NULL",
                                    "7": "S",
                                    "8": "331683000",
                                    "9": "2014"
                                },
                                {
                                    "0": "68",
                                    "1": "SYR",
                                    "2": "EA",
                                    "3": "NY",
                                    "4": "Syracuse",
                                    "5": "Syracuse Hancock International",
                                    "6": "NULL",
                                    "7": "S",
                                    "8": "326187092",
                                    "9": "2014"
                                },
                                {
                                    "0": "69",
                                    "1": "TUL",
                                    "2": "SW",
                                    "3": "OK",
                                    "4": "Tulsa",
                                    "5": "Tulsa International",
                                    "6": "NULL",
                                    "7": "S",
                                    "8": "311962782",
                                    "9": "2014"
                                },
                                {
                                    "0": "70",
                                    "1": "BNA",
                                    "2": "SO",
                                    "3": "TN",
                                    "4": "Nashville",
                                    "5": "Nashville International",
                                    "6": "NULL",
                                    "7": "M",
                                    "8": "298160483",
                                    "9": "2014"
                                },
                                {
                                    "0": "71",
                                    "1": "MSY",
                                    "2": "SW",
                                    "3": "LA",
                                    "4": "Metairie",
                                    "5": "Louis Armstrong New Orleans International",
                                    "6": "NULL",
                                    "7": "M",
                                    "8": "296971410",
                                    "9": "2014"
                                },
                                {
                                    "0": "72",
                                    "1": "BUF",
                                    "2": "EA",
                                    "3": "NY",
                                    "4": "Buffalo",
                                    "5": "Buffalo Niagara International",
                                    "6": "NULL",
                                    "7": "M",
                                    "8": "294675727",
                                    "9": "2014"
                                },
                                {
                                    "0": "73",
                                    "1": "SMF",
                                    "2": "WP",
                                    "3": "CA",
                                    "4": "Sacramento",
                                    "5": "Sacramento International",
                                    "6": "NULL",
                                    "7": "M",
                                    "8": "287806700",
                                    "9": "2014"
                                },
                                {
                                    "0": "74",
                                    "1": "TYS",
                                    "2": "SO",
                                    "3": "TN",
                                    "4": "Alcoa",
                                    "5": "McGhee Tyson",
                                    "6": "NULL",
                                    "7": "S",
                                    "8": "284412678",
                                    "9": "2014"
                                },
                                {
                                    "0": "75",
                                    "1": "CID",
                                    "2": "CE",
                                    "3": "IA",
                                    "4": "Cedar Rapids",
                                    "5": "The Eastern Iowa",
                                    "6": "NULL",
                                    "7": "S",
                                    "8": "280038467",
                                    "9": "2014"
                                },
                                {
                                    "0": "76",
                                    "1": "MDT",
                                    "2": "EA",
                                    "3": "PA",
                                    "4": "Harrisburg",
                                    "5": "Harrisburg International",
                                    "6": "NULL",
                                    "7": "S",
                                    "8": "273774216",
                                    "9": "2014"
                                },
                                {
                                    "0": "77",
                                    "1": "ROC",
                                    "2": "EA",
                                    "3": "NY",
                                    "4": "Rochester",
                                    "5": "Greater Rochester International",
                                    "6": "NULL",
                                    "7": "S",
                                    "8": "270745982",
                                    "9": "2014"
                                },
                                {
                                    "0": "78",
                                    "1": "PAE",
                                    "2": "NM",
                                    "3": "WA",
                                    "4": "Everett",
                                    "5": "Snohomish County (Paine Field)",
                                    "6": "NULL",
                                    "7": "-",
                                    "8": "264430000",
                                    "9": "2014"
                                },
                                {
                                    "0": "79",
                                    "1": "OGG",
                                    "2": "WP",
                                    "3": "HI",
                                    "4": "Kahului",
                                    "5": "Kahului",
                                    "6": "NULL",
                                    "7": "M",
                                    "8": "249422700",
                                    "9": "2014"
                                },
                                {
                                    "0": "80",
                                    "1": "HRL",
                                    "2": "SW",
                                    "3": "TX",
                                    "4": "Harlingen",
                                    "5": "Valley International",
                                    "6": "NULL",
                                    "7": "N",
                                    "8": "246377050",
                                    "9": "2014"
                                },
                                {
                                    "0": "81",
                                    "1": "SJC",
                                    "2": "WP",
                                    "3": "CA",
                                    "4": "San Jose",
                                    "5": "Norman Y Mineta San Jose International",
                                    "6": "NULL",
                                    "7": "M",
                                    "8": "244687656",
                                    "9": "2014"
                                },
                                {
                                    "0": "82",
                                    "1": "GSP",
                                    "2": "SO",
                                    "3": "SC",
                                    "4": "Greer",
                                    "5": "Greenville Spartanburg International",
                                    "6": "NULL",
                                    "7": "S",
                                    "8": "240117397",
                                    "9": "2014"
                                },
                                {
                                    "0": "83",
                                    "1": "GRR",
                                    "2": "GL",
                                    "3": "MI",
                                    "4": "Grand Rapids",
                                    "5": "Gerald R Ford International",
                                    "6": "NULL",
                                    "7": "S",
                                    "8": "238096695",
                                    "9": "2014"
                                },
                                {
                                    "0": "84",
                                    "1": "SHV",
                                    "2": "SW",
                                    "3": "LA",
                                    "4": "Shreveport",
                                    "5": "Shreveport Regional",
                                    "6": "NULL",
                                    "7": "N",
                                    "8": "224776958",
                                    "9": "2014"
                                },
                                {
                                    "0": "85",
                                    "1": "OKC",
                                    "2": "SW",
                                    "3": "OK",
                                    "4": "Oklahoma City",
                                    "5": "Will Rogers World",
                                    "6": "NULL",
                                    "7": "S",
                                    "8": "219221158",
                                    "9": "2014"
                                },
                                {
                                    "0": "86",
                                    "1": "ICT",
                                    "2": "CE",
                                    "3": "KS",
                                    "4": "Wichita",
                                    "5": "Wichita Dwight D Eisenhower National",
                                    "6": "NULL",
                                    "7": "S",
                                    "8": "211328367",
                                    "9": "2014"
                                },
                                {
                                    "0": "87",
                                    "1": "FWA",
                                    "2": "GL",
                                    "3": "IN",
                                    "4": "Fort Wayne",
                                    "5": "Fort Wayne International",
                                    "6": "NULL",
                                    "7": "N",
                                    "8": "210749949",
                                    "9": "2014"
                                },
                                {
                                    "0": "88",
                                    "1": "KOA",
                                    "2": "WP",
                                    "3": "HI",
                                    "4": "Kailua Kona",
                                    "5": "Kona International at Keahole",
                                    "6": "NULL",
                                    "7": "S",
                                    "8": "207349100",
                                    "9": "2014"
                                },
                                {
                                    "0": "89",
                                    "1": "PIA",
                                    "2": "GL",
                                    "3": "IL",
                                    "4": "Peoria",
                                    "5": "General Downing - Peoria International",
                                    "6": "NULL",
                                    "7": "N",
                                    "8": "206958840",
                                    "9": "2014"
                                },
                                {
                                    "0": "90",
                                    "1": "SGF",
                                    "2": "CE",
                                    "3": "MO",
                                    "4": "Springfield",
                                    "5": "Springfield-Branson National",
                                    "6": "NULL",
                                    "7": "N",
                                    "8": "197790480",
                                    "9": "2014"
                                },
                                {
                                    "0": "91",
                                    "1": "ORF",
                                    "2": "EA",
                                    "3": "VA",
                                    "4": "Norfolk",
                                    "5": "Norfolk International",
                                    "6": "NULL",
                                    "7": "S",
                                    "8": "197539516",
                                    "9": "2014"
                                },
                                {
                                    "0": "92",
                                    "1": "YIP",
                                    "2": "GL",
                                    "3": "MI",
                                    "4": "Detroit",
                                    "5": "Willow Run",
                                    "6": "NULL",
                                    "7": "-",
                                    "8": "194188703",
                                    "9": "2014"
                                },
                                {
                                    "0": "93",
                                    "1": "GFK",
                                    "2": "GL",
                                    "3": "ND",
                                    "4": "Grand Forks",
                                    "5": "Grand Forks International",
                                    "6": "NULL",
                                    "7": "N",
                                    "8": "192368533",
                                    "9": "2014"
                                },
                                {
                                    "0": "94",
                                    "1": "GTF",
                                    "2": "NM",
                                    "3": "MT",
                                    "4": "Great Falls",
                                    "5": "Great Falls International",
                                    "6": "NULL",
                                    "7": "N",
                                    "8": "182509524",
                                    "9": "2014"
                                },
                                {
                                    "0": "95",
                                    "1": "BHM",
                                    "2": "SO",
                                    "3": "AL",
                                    "4": "Birmingham",
                                    "5": "Birmingham-Shuttlesworth International",
                                    "6": "NULL",
                                    "7": "S",
                                    "8": "176272280",
                                    "9": "2014"
                                },
                                {
                                    "0": "96",
                                    "1": "ITO",
                                    "2": "WP",
                                    "3": "HI",
                                    "4": "Hilo",
                                    "5": "Hilo International",
                                    "6": "NULL",
                                    "7": "S",
                                    "8": "172094600",
                                    "9": "2014"
                                },
                                {
                                    "0": "97",
                                    "1": "ALB",
                                    "2": "EA",
                                    "3": "NY",
                                    "4": "Albany",
                                    "5": "Albany International",
                                    "6": "NULL",
                                    "7": "S",
                                    "8": "164482420",
                                    "9": "2014"
                                },
                                {
                                    "0": "98",
                                    "1": "LGB",
                                    "2": "WP",
                                    "3": "CA",
                                    "4": "Long Beach",
                                    "5": "Long Beach /Daugherty Field/",
                                    "6": "NULL",
                                    "7": "S",
                                    "8": "164090566",
                                    "9": "2014"
                                },
                                {
                                    "0": "99",
                                    "1": "ABY",
                                    "2": "SO",
                                    "3": "GA",
                                    "4": "Albany",
                                    "5": "Southwest Georgia Regional",
                                    "6": "NULL",
                                    "7": "N",
                                    "8": "161221000",
                                    "9": "2014"
                                },
                                {
                                    "0": "100",
                                    "1": "BFM",
                                    "2": "SO",
                                    "3": "AL",
                                    "4": "Mobile",
                                    "5": "Mobile Downtown",
                                    "6": "NULL",
                                    "7": "-",
                                    "8": "159755964",
                                    "9": "2014"
                                },
                                {
                                    "0": "101",
                                    "1": "TUS",
                                    "2": "WP",
                                    "3": "AZ",
                                    "4": "Tucson",
                                    "5": "Tucson International",
                                    "6": "NULL",
                                    "7": "S",
                                    "8": "154876980",
                                    "9": "2014"
                                },
                                {
                                    "0": "102",
                                    "1": "LIT",
                                    "2": "SW",
                                    "3": "AR",
                                    "4": "Little Rock",
                                    "5": "Bill and Hillary Clinton National/Adams Field",
                                    "6": "NULL",
                                    "7": "S",
                                    "8": "146588078",
                                    "9": "2014"
                                },
                                {
                                    "0": "103",
                                    "1": "SWF",
                                    "2": "EA",
                                    "3": "NY",
                                    "4": "Newburgh",
                                    "5": "Stewart International",
                                    "6": "NULL",
                                    "7": "N",
                                    "8": "142854580",
                                    "9": "2014"
                                },
                                {
                                    "0": "104",
                                    "1": "PIE",
                                    "2": "SO",
                                    "3": "FL",
                                    "4": "Clearwater",
                                    "5": "St Pete-Clearwater International",
                                    "6": "NULL",
                                    "7": "S",
                                    "8": "135988000",
                                    "9": "2014"
                                },
                                {
                                    "0": "105",
                                    "1": "LAN",
                                    "2": "GL",
                                    "3": "MI",
                                    "4": "Clinton (Township of)",
                                    "5": "Capital Region International",
                                    "6": "NULL",
                                    "7": "N",
                                    "8": "129734692",
                                    "9": "2014"
                                },
                                {
                                    "0": "106",
                                    "1": "ROA",
                                    "2": "EA",
                                    "3": "VA",
                                    "4": "Roanoke",
                                    "5": "Roanoke Regional/Woodrum Field",
                                    "6": "NULL",
                                    "7": "N",
                                    "8": "128954840",
                                    "9": "2014"
                                },
                                {
                                    "0": "107",
                                    "1": "TOL",
                                    "2": "GL",
                                    "3": "OH",
                                    "4": "Toledo",
                                    "5": "Toledo Express",
                                    "6": "NULL",
                                    "7": "N",
                                    "8": "122077000",
                                    "9": "2014"
                                },
                                {
                                    "0": "108",
                                    "1": "RSW",
                                    "2": "SO",
                                    "3": "FL",
                                    "4": "Fort Myers",
                                    "5": "Southwest Florida International",
                                    "6": "NULL",
                                    "7": "M",
                                    "8": "119577700",
                                    "9": "2014"
                                },
                                {
                                    "0": "109",
                                    "1": "FAI",
                                    "2": "AL",
                                    "3": "AK",
                                    "4": "Fairbanks",
                                    "5": "Fairbanks International",
                                    "6": "NULL",
                                    "7": "S",
                                    "8": "119372978",
                                    "9": "2014"
                                },
                                {
                                    "0": "110",
                                    "1": "LIH",
                                    "2": "WP",
                                    "3": "HI",
                                    "4": "Lihue",
                                    "5": "Lihue",
                                    "6": "NULL",
                                    "7": "S",
                                    "8": "113432400",
                                    "9": "2014"
                                },
                                {
                                    "0": "111",
                                    "1": "PVD",
                                    "2": "NE",
                                    "3": "RI",
                                    "4": "Warwick",
                                    "5": "Theodore Francis Green State",
                                    "6": "NULL",
                                    "7": "M",
                                    "8": "109829000",
                                    "9": "2014"
                                },
                                {
                                    "0": "112",
                                    "1": "COS",
                                    "2": "NM",
                                    "3": "CO",
                                    "4": "Colorado Springs",
                                    "5": "City of Colorado Springs Municipal",
                                    "6": "NULL",
                                    "7": "S",
                                    "8": "108568776",
                                    "9": "2014"
                                },
                                {
                                    "0": "113",
                                    "1": "LFT",
                                    "2": "SW",
                                    "3": "LA",
                                    "4": "Lafayette",
                                    "5": "Lafayette Regional/Paul Fournet Field",
                                    "6": "NULL",
                                    "7": "N",
                                    "8": "107586000",
                                    "9": "2014"
                                },
                                {
                                    "0": "114",
                                    "1": "FAT",
                                    "2": "WP",
                                    "3": "CA",
                                    "4": "Fresno",
                                    "5": "Fresno Yosemite International",
                                    "6": "NULL",
                                    "7": "S",
                                    "8": "104627600",
                                    "9": "2014"
                                },
                                {
                                    "0": "115",
                                    "1": "SBN",
                                    "2": "GL",
                                    "3": "IN",
                                    "4": "South Bend",
                                    "5": "South Bend International",
                                    "6": "NULL",
                                    "7": "N",
                                    "8": "98951022",
                                    "9": "2014"
                                },
                                {
                                    "0": "116",
                                    "1": "GUM",
                                    "2": "WP",
                                    "3": "GU",
                                    "4": "Tamuning",
                                    "5": "Guam International",
                                    "6": "NULL",
                                    "7": "S",
                                    "8": "87446300",
                                    "9": "2014"
                                },
                                {
                                    "0": "117",
                                    "1": "FNT",
                                    "2": "GL",
                                    "3": "MI",
                                    "4": "Flint",
                                    "5": "Bishop International",
                                    "6": "NULL",
                                    "7": "S",
                                    "8": "83575526",
                                    "9": "2014"
                                },
                                {
                                    "0": "118",
                                    "1": "JAN",
                                    "2": "SO",
                                    "3": "MS",
                                    "4": "Jackson",
                                    "5": "Jackson-Medgar Wiley Evers International",
                                    "6": "NULL",
                                    "7": "S",
                                    "8": "76147866",
                                    "9": "2014"
                                },
                                {
                                    "0": "119",
                                    "1": "CHA",
                                    "2": "SO",
                                    "3": "TN",
                                    "4": "Chattanooga",
                                    "5": "Lovell Field",
                                    "6": "NULL",
                                    "7": "N",
                                    "8": "60371307",
                                    "9": "2014"
                                },
                                {
                                    "0": "120",
                                    "1": "DAY",
                                    "2": "GL",
                                    "3": "OH",
                                    "4": "Dayton",
                                    "5": "James M Cox Dayton International",
                                    "6": "NULL",
                                    "7": "S",
                                    "8": "52086800",
                                    "9": "2014"
                                },
                                {
                                    "0": "121",
                                    "1": "BGR",
                                    "2": "NE",
                                    "3": "ME",
                                    "4": "Bangor",
                                    "5": "Bangor International",
                                    "6": "NULL",
                                    "7": "N",
                                    "8": "22768983",
                                    "9": "2014"
                                },
                                {
                                    "0": "122",
                                    "1": "PSM",
                                    "2": "NE",
                                    "3": "NH",
                                    "4": "Portsmouth",
                                    "5": "Portsmouth International at Pease",
                                    "6": "NULL",
                                    "7": "N",
                                    "8": "19313869",
                                    "9": "2014"
                                },
                                {
                                    "0": "123",
                                    "1": "BRO",
                                    "2": "SW",
                                    "3": "TX",
                                    "4": "Brownsville",
                                    "5": "Brownsville/South Padre Island International",
                                    "6": "NULL",
                                    "7": "N",
                                    "8": "17886176",
                                    "9": "2014"
                                },
                                {
                                    "0": "124",
                                    "1": "RIV",
                                    "2": "WP",
                                    "3": "CA",
                                    "4": "Riverside",
                                    "5": "March ARB",
                                    "6": "NULL",
                                    "7": "-",
                                    "8": "9220000",
                                    "9": "2014"
                                },
                                {
                                    "0": "125",
                                    "1": "CIC",
                                    "2": "WP",
                                    "3": "CA",
                                    "4": "Chico",
                                    "5": "Chico Municipal",
                                    "6": "NULL",
                                    "7": "N",
                                    "8": "6476200",
                                    "9": "2014"
                                },
                                {
                                    "0": "126",
                                    "1": "GUP",
                                    "2": "SW",
                                    "3": "NM",
                                    "4": "Gallup",
                                    "5": "Gallup Municipal",
                                    "6": "NULL",
                                    "7": "-",
                                    "8": "4734240",
                                    "9": "2014"
                                },
                                {
                                    "0": "127",
                                    "1": "IWD",
                                    "2": "GL",
                                    "3": "MI",
                                    "4": "Ironwood",
                                    "5": "Gogebic-Iron County",
                                    "6": "NULL",
                                    "7": "-",
                                    "8": "4469000",
                                    "9": "2014"
                                },
                                {
                                    "0": "128",
                                    "1": "HKS",
                                    "2": "SO",
                                    "3": "MS",
                                    "4": "Jackson",
                                    "5": "Hawkins Field",
                                    "6": "NULL",
                                    "7": "-",
                                    "8": "2233501",
                                    "9": "2014"
                                },
                                {
                                    "0": "129",
                                    "1": "IAG",
                                    "2": "EA",
                                    "3": "NY",
                                    "4": "Niagara Falls",
                                    "5": "Niagara Falls International",
                                    "6": "NULL",
                                    "7": "N",
                                    "8": "1819238",
                                    "9": "2014"
                                },
                                {
                                    "0": "130",
                                    "1": "TCC",
                                    "2": "SW",
                                    "3": "NM",
                                    "4": "Tucumcari",
                                    "5": "Tucumcari Municipal",
                                    "6": "NULL",
                                    "7": "-",
                                    "8": "1419050",
                                    "9": "2014"
                                },
                                {
                                    "0": "131",
                                    "1": "VNY",
                                    "2": "WP",
                                    "3": "CA",
                                    "4": "Van Nuys",
                                    "5": "Van Nuys",
                                    "6": "NULL",
                                    "7": "-",
                                    "8": "422000",
                                    "9": "2014"
                                },
                                {
                                    "0": "9999",
                                    "1": "SCK",
                                    "2": "WP",
                                    "3": "CA",
                                    "4": "Stockton",
                                    "5": "Stockton Metropolitan",
                                    "6": "NULL",
                                    "7": "N",
                                    "8": "0",
                                    "9": "2014"
                                }
                            ]
                        },
                        "text/html": "<table><tr><th>Rank</th><th>Locid</th><th>RO</th><th>ST</th><th>City</th><th>Airportname</th><th>SL</th><th>Hub</th><th>landed_weight</th><th>year</th></tr><tr><td>1</td><td>MEM</td><td>SO</td><td>TN</td><td>Memphis</td><td>Memphis International</td><td>NULL</td><td>M</td><td>22774592279</td><td>2014</td></tr><tr><td>2</td><td>ANC</td><td>AL</td><td>AK</td><td>Anchorage</td><td>Ted Stevens Anchorage International</td><td>NULL</td><td>M</td><td>15867941046</td><td>2014</td></tr><tr><td>3</td><td>SDF</td><td>SO</td><td>KY</td><td>Louisville</td><td>Louisville International-Standiford Field</td><td>NULL</td><td>S</td><td>11568369154</td><td>2014</td></tr><tr><td>4</td><td>ORD</td><td>GL</td><td>IL</td><td>Chicago</td><td>Chicago O'Hare International</td><td>NULL</td><td>L</td><td>7541411779</td><td>2014</td></tr><tr><td>5</td><td>MIA</td><td>SO</td><td>FL</td><td>Miami</td><td>Miami International</td><td>NULL</td><td>L</td><td>7192790882</td><td>2014</td></tr><tr><td>6</td><td>IND</td><td>GL</td><td>IN</td><td>Indianapolis</td><td>Indianapolis International</td><td>NULL</td><td>M</td><td>5355984715</td><td>2014</td></tr><tr><td>7</td><td>LAX</td><td>WP</td><td>CA</td><td>Los Angeles</td><td>Los Angeles International</td><td>NULL</td><td>L</td><td>4297359912</td><td>2014</td></tr><tr><td>8</td><td>CVG</td><td>SO</td><td>KY</td><td>Greater Cincinnati International Airport</td><td>Cincinnati/Northern Kentucky International</td><td>NULL</td><td>M</td><td>3644404568</td><td>2014</td></tr><tr><td>9</td><td>JFK</td><td>EA</td><td>NY</td><td>New York</td><td>John F Kennedy International</td><td>NULL</td><td>L</td><td>3170996874</td><td>2014</td></tr><tr><td>10</td><td>DFW</td><td>SW</td><td>TX</td><td>Fort Worth</td><td>Dallas/Fort Worth International</td><td>NULL</td><td>L</td><td>3140733270</td><td>2014</td></tr><tr><td>11</td><td>OAK</td><td>WP</td><td>CA</td><td>Oakland</td><td>Metropolitan Oakland International</td><td>NULL</td><td>M</td><td>2954355995</td><td>2014</td></tr><tr><td>12</td><td>EWR</td><td>EA</td><td>NJ</td><td>Newark</td><td>Newark Liberty International</td><td>NULL</td><td>L</td><td>2499283148</td><td>2014</td></tr><tr><td>13</td><td>ONT</td><td>WP</td><td>CA</td><td>Ontario</td><td>Ontario International</td><td>NULL</td><td>M</td><td>2360845923</td><td>2014</td></tr><tr><td>14</td><td>ATL</td><td>SO</td><td>GA</td><td>Atlanta</td><td>Hartsfield - Jackson Atlanta International</td><td>NULL</td><td>L</td><td>2262892910</td><td>2014</td></tr><tr><td>15</td><td>HNL</td><td>WP</td><td>HI</td><td>Honolulu</td><td>Honolulu International</td><td>NULL</td><td>L</td><td>2189120700</td><td>2014</td></tr><tr><td>16</td><td>PHL</td><td>EA</td><td>PA</td><td>Philadelphia</td><td>Philadelphia International</td><td>NULL</td><td>L</td><td>1927756545</td><td>2014</td></tr><tr><td>17</td><td>IAH</td><td>SW</td><td>TX</td><td>Houston</td><td>George Bush Intercontinental/Houston</td><td>NULL</td><td>L</td><td>1734461801</td><td>2014</td></tr><tr><td>18</td><td>SEA</td><td>NM</td><td>WA</td><td>Seattle</td><td>Seattle-Tacoma International</td><td>NULL</td><td>L</td><td>1574603394</td><td>2014</td></tr><tr><td>19</td><td>PHX</td><td>WP</td><td>AZ</td><td>Phoenix</td><td>Phoenix Sky Harbor International</td><td>NULL</td><td>L</td><td>1436921968</td><td>2014</td></tr><tr><td>20</td><td>DEN</td><td>NM</td><td>CO</td><td>Denver</td><td>Denver International</td><td>NULL</td><td>L</td><td>1314752910</td><td>2014</td></tr><tr><td>21</td><td>SFO</td><td>WP</td><td>CA</td><td>San Francisco International Airport</td><td>San Francisco International</td><td>NULL</td><td>L</td><td>1245416930</td><td>2014</td></tr><tr><td>22</td><td>PDX</td><td>NM</td><td>OR</td><td>Portland</td><td>Portland International</td><td>NULL</td><td>L</td><td>1126448683</td><td>2014</td></tr><tr><td>23</td><td>MSP</td><td>GL</td><td>MN</td><td>Minneapolis</td><td>Minneapolis-St Paul International/Wold-Chamberlain</td><td>NULL</td><td>L</td><td>972664080</td><td>2014</td></tr><tr><td>24</td><td>SLC</td><td>NM</td><td>UT</td><td>Salt Lake City</td><td>Salt Lake City International</td><td>NULL</td><td>L</td><td>962293488</td><td>2014</td></tr><tr><td>25</td><td>BOS</td><td>NE</td><td>MA</td><td>Boston</td><td>General Edward Lawrence Logan International</td><td>NULL</td><td>L</td><td>910283225</td><td>2014</td></tr><tr><td>26</td><td>SJU</td><td>SO</td><td>PR</td><td>San Juan</td><td>Luis Munoz Marin International</td><td>NULL</td><td>M</td><td>850270758</td><td>2014</td></tr><tr><td>27</td><td>BFI</td><td>NM</td><td>WA</td><td>Seattle</td><td>Boeing Field/King County International</td><td>NULL</td><td>N</td><td>815258980</td><td>2014</td></tr><tr><td>28</td><td>RFD</td><td>GL</td><td>IL</td><td>Rockford</td><td>Chicago/Rockford International</td><td>NULL</td><td>N</td><td>788773800</td><td>2014</td></tr><tr><td>29</td><td>BDL</td><td>NE</td><td>CT</td><td>Windsor Locks</td><td>Bradley International</td><td>NULL</td><td>M</td><td>783504420</td><td>2014</td></tr><tr><td>30</td><td>MCO</td><td>SO</td><td>FL</td><td>Orlando</td><td>Orlando International</td><td>NULL</td><td>L</td><td>756120798</td><td>2014</td></tr><tr><td>31</td><td>SAT</td><td>SW</td><td>TX</td><td>San Antonio</td><td>San Antonio International</td><td>NULL</td><td>M</td><td>746704930</td><td>2014</td></tr><tr><td>32</td><td>LCK</td><td>GL</td><td>OH</td><td>Columbus</td><td>Rickenbacker International</td><td>NULL</td><td>N</td><td>734846781</td><td>2014</td></tr><tr><td>33</td><td>DTW</td><td>GL</td><td>MI</td><td>Detroit</td><td>Detroit Metropolitan Wayne County</td><td>NULL</td><td>L</td><td>674728030</td><td>2014</td></tr><tr><td>34</td><td>AFW</td><td>SW</td><td>TX</td><td>Fort Worth</td><td>Fort Worth Alliance</td><td>NULL</td><td>-</td><td>667945474</td><td>2014</td></tr><tr><td>35</td><td>BQN</td><td>SO</td><td>PR</td><td>Aguadilla</td><td>Rafael Hernandez</td><td>NULL</td><td>N</td><td>660524330</td><td>2014</td></tr><tr><td>36</td><td>SAN</td><td>WP</td><td>CA</td><td>San Diego</td><td>San Diego International</td><td>NULL</td><td>L</td><td>586689250</td><td>2014</td></tr><tr><td>37</td><td>ABQ</td><td>SW</td><td>NM</td><td>Albuquerque</td><td>Albuquerque International Sunport</td><td>NULL</td><td>M</td><td>569465958</td><td>2014</td></tr><tr><td>38</td><td>GSO</td><td>SO</td><td>NC</td><td>Greensboro</td><td>Piedmont Triad International</td><td>NULL</td><td>S</td><td>535652851</td><td>2014</td></tr><tr><td>39</td><td>MKE</td><td>GL</td><td>WI</td><td>Milwaukee</td><td>General Mitchell International</td><td>NULL</td><td>M</td><td>510090425</td><td>2014</td></tr><tr><td>40</td><td>FLL</td><td>SO</td><td>FL</td><td>Fort Lauderdale</td><td>Fort Lauderdale/Hollywood International</td><td>NULL</td><td>L</td><td>508118870</td><td>2014</td></tr><tr><td>41</td><td>MCI</td><td>CE</td><td>MO</td><td>Kansas City</td><td>Kansas City International</td><td>NULL</td><td>M</td><td>497633875</td><td>2014</td></tr><tr><td>42</td><td>ELP</td><td>SW</td><td>TX</td><td>El Paso</td><td>El Paso International</td><td>NULL</td><td>S</td><td>497118706</td><td>2014</td></tr><tr><td>43</td><td>BWI</td><td>EA</td><td>MD</td><td>Glen Burnie</td><td>Baltimore/Washington International Thurgood Marshall</td><td>NULL</td><td>L</td><td>487553717</td><td>2014</td></tr><tr><td>44</td><td>IAD</td><td>EA</td><td>VA</td><td>Dulles</td><td>Washington Dulles International</td><td>NULL</td><td>L</td><td>479925622</td><td>2014</td></tr><tr><td>45</td><td>MHT</td><td>NE</td><td>NH</td><td>Manchester</td><td>Manchester</td><td>NULL</td><td>S</td><td>468002490</td><td>2014</td></tr><tr><td>46</td><td>RNO</td><td>WP</td><td>NV</td><td>Reno</td><td>Reno/Tahoe International</td><td>NULL</td><td>S</td><td>467324320</td><td>2014</td></tr><tr><td>47</td><td>DSM</td><td>CE</td><td>IA</td><td>Des Moines</td><td>Des Moines International</td><td>NULL</td><td>S</td><td>451745058</td><td>2014</td></tr><tr><td>48</td><td>LRD</td><td>SW</td><td>TX</td><td>Laredo</td><td>Laredo International</td><td>NULL</td><td>N</td><td>441535408</td><td>2014</td></tr><tr><td>49</td><td>RDU</td><td>SO</td><td>NC</td><td>Raleigh</td><td>Raleigh-Durham International</td><td>NULL</td><td>M</td><td>439980600</td><td>2014</td></tr><tr><td>50</td><td>AUS</td><td>SW</td><td>TX</td><td>Austin</td><td>Austin-Bergstrom International</td><td>NULL</td><td>M</td><td>438339730</td><td>2014</td></tr><tr><td>51</td><td>HSV</td><td>SO</td><td>AL</td><td>Huntsville</td><td>Huntsville International-Carl T Jones Field</td><td>NULL</td><td>S</td><td>411062041</td><td>2014</td></tr><tr><td>52</td><td>RIC</td><td>EA</td><td>VA</td><td>Highland Springs</td><td>Richmond International</td><td>NULL</td><td>S</td><td>408252520</td><td>2014</td></tr><tr><td>53</td><td>PIT</td><td>EA</td><td>PA</td><td>Pittsburgh</td><td>Pittsburgh International</td><td>NULL</td><td>M</td><td>405850757</td><td>2014</td></tr><tr><td>54</td><td>GEG</td><td>NM</td><td>WA</td><td>Spokane</td><td>Spokane International</td><td>NULL</td><td>S</td><td>402626480</td><td>2014</td></tr><tr><td>55</td><td>JAX</td><td>SO</td><td>FL</td><td>Jacksonville</td><td>Jacksonville International</td><td>NULL</td><td>M</td><td>395653090</td><td>2014</td></tr><tr><td>56</td><td>TPA</td><td>SO</td><td>FL</td><td>Tampa</td><td>Tampa International</td><td>NULL</td><td>L</td><td>395335682</td><td>2014</td></tr><tr><td>57</td><td>CAE</td><td>SO</td><td>SC</td><td>Columbia</td><td>Columbia Metropolitan</td><td>NULL</td><td>S</td><td>394282025</td><td>2014</td></tr><tr><td>58</td><td>LAS</td><td>WP</td><td>NV</td><td>Las Vegas</td><td>McCarran International</td><td>NULL</td><td>L</td><td>392745700</td><td>2014</td></tr><tr><td>59</td><td>OMA</td><td>CE</td><td>NE</td><td>Omaha</td><td>Eppley Airfield</td><td>NULL</td><td>M</td><td>389625264</td><td>2014</td></tr><tr><td>60</td><td>STL</td><td>CE</td><td>MO</td><td>St. Louis</td><td>Lambert-St Louis International</td><td>NULL</td><td>M</td><td>381204028</td><td>2014</td></tr><tr><td>61</td><td>CLE</td><td>GL</td><td>OH</td><td>Cleveland</td><td>Cleveland-Hopkins International</td><td>NULL</td><td>M</td><td>370335804</td><td>2014</td></tr><tr><td>62</td><td>MHR</td><td>WP</td><td>CA</td><td>Sacramento</td><td>Sacramento Mather</td><td>NULL</td><td>-</td><td>361191250</td><td>2014</td></tr><tr><td>63</td><td>CLT</td><td>SO</td><td>NC</td><td>Charlotte</td><td>Charlotte/Douglas International</td><td>NULL</td><td>L</td><td>360077450</td><td>2014</td></tr><tr><td>64</td><td>FSD</td><td>GL</td><td>SD</td><td>Sioux Falls</td><td>Joe Foss Field</td><td>NULL</td><td>S</td><td>351194964</td><td>2014</td></tr><tr><td>65</td><td>BOI</td><td>NM</td><td>ID</td><td>Boise</td><td>Boise Air Terminal/Gowen Field</td><td>NULL</td><td>S</td><td>343847570</td><td>2014</td></tr><tr><td>66</td><td>LBB</td><td>SW</td><td>TX</td><td>Lubbock</td><td>Lubbock Preston Smith International</td><td>NULL</td><td>S</td><td>334883620</td><td>2014</td></tr><tr><td>67</td><td>CHS</td><td>SO</td><td>SC</td><td>Charleston</td><td>Charleston AFB/International</td><td>NULL</td><td>S</td><td>331683000</td><td>2014</td></tr><tr><td>68</td><td>SYR</td><td>EA</td><td>NY</td><td>Syracuse</td><td>Syracuse Hancock International</td><td>NULL</td><td>S</td><td>326187092</td><td>2014</td></tr><tr><td>69</td><td>TUL</td><td>SW</td><td>OK</td><td>Tulsa</td><td>Tulsa International</td><td>NULL</td><td>S</td><td>311962782</td><td>2014</td></tr><tr><td>70</td><td>BNA</td><td>SO</td><td>TN</td><td>Nashville</td><td>Nashville International</td><td>NULL</td><td>M</td><td>298160483</td><td>2014</td></tr><tr><td>71</td><td>MSY</td><td>SW</td><td>LA</td><td>Metairie</td><td>Louis Armstrong New Orleans International</td><td>NULL</td><td>M</td><td>296971410</td><td>2014</td></tr><tr><td>72</td><td>BUF</td><td>EA</td><td>NY</td><td>Buffalo</td><td>Buffalo Niagara International</td><td>NULL</td><td>M</td><td>294675727</td><td>2014</td></tr><tr><td>73</td><td>SMF</td><td>WP</td><td>CA</td><td>Sacramento</td><td>Sacramento International</td><td>NULL</td><td>M</td><td>287806700</td><td>2014</td></tr><tr><td>74</td><td>TYS</td><td>SO</td><td>TN</td><td>Alcoa</td><td>McGhee Tyson</td><td>NULL</td><td>S</td><td>284412678</td><td>2014</td></tr><tr><td>75</td><td>CID</td><td>CE</td><td>IA</td><td>Cedar Rapids</td><td>The Eastern Iowa</td><td>NULL</td><td>S</td><td>280038467</td><td>2014</td></tr><tr><td>76</td><td>MDT</td><td>EA</td><td>PA</td><td>Harrisburg</td><td>Harrisburg International</td><td>NULL</td><td>S</td><td>273774216</td><td>2014</td></tr><tr><td>77</td><td>ROC</td><td>EA</td><td>NY</td><td>Rochester</td><td>Greater Rochester International</td><td>NULL</td><td>S</td><td>270745982</td><td>2014</td></tr><tr><td>78</td><td>PAE</td><td>NM</td><td>WA</td><td>Everett</td><td>Snohomish County (Paine Field)</td><td>NULL</td><td>-</td><td>264430000</td><td>2014</td></tr><tr><td>79</td><td>OGG</td><td>WP</td><td>HI</td><td>Kahului</td><td>Kahului</td><td>NULL</td><td>M</td><td>249422700</td><td>2014</td></tr><tr><td>80</td><td>HRL</td><td>SW</td><td>TX</td><td>Harlingen</td><td>Valley International</td><td>NULL</td><td>N</td><td>246377050</td><td>2014</td></tr><tr><td>81</td><td>SJC</td><td>WP</td><td>CA</td><td>San Jose</td><td>Norman Y Mineta San Jose International</td><td>NULL</td><td>M</td><td>244687656</td><td>2014</td></tr><tr><td>82</td><td>GSP</td><td>SO</td><td>SC</td><td>Greer</td><td>Greenville Spartanburg International</td><td>NULL</td><td>S</td><td>240117397</td><td>2014</td></tr><tr><td>83</td><td>GRR</td><td>GL</td><td>MI</td><td>Grand Rapids</td><td>Gerald R Ford International</td><td>NULL</td><td>S</td><td>238096695</td><td>2014</td></tr><tr><td>84</td><td>SHV</td><td>SW</td><td>LA</td><td>Shreveport</td><td>Shreveport Regional</td><td>NULL</td><td>N</td><td>224776958</td><td>2014</td></tr><tr><td>85</td><td>OKC</td><td>SW</td><td>OK</td><td>Oklahoma City</td><td>Will Rogers World</td><td>NULL</td><td>S</td><td>219221158</td><td>2014</td></tr><tr><td>86</td><td>ICT</td><td>CE</td><td>KS</td><td>Wichita</td><td>Wichita Dwight D Eisenhower National</td><td>NULL</td><td>S</td><td>211328367</td><td>2014</td></tr><tr><td>87</td><td>FWA</td><td>GL</td><td>IN</td><td>Fort Wayne</td><td>Fort Wayne International</td><td>NULL</td><td>N</td><td>210749949</td><td>2014</td></tr><tr><td>88</td><td>KOA</td><td>WP</td><td>HI</td><td>Kailua Kona</td><td>Kona International at Keahole</td><td>NULL</td><td>S</td><td>207349100</td><td>2014</td></tr><tr><td>89</td><td>PIA</td><td>GL</td><td>IL</td><td>Peoria</td><td>General Downing - Peoria International</td><td>NULL</td><td>N</td><td>206958840</td><td>2014</td></tr><tr><td>90</td><td>SGF</td><td>CE</td><td>MO</td><td>Springfield</td><td>Springfield-Branson National</td><td>NULL</td><td>N</td><td>197790480</td><td>2014</td></tr><tr><td>91</td><td>ORF</td><td>EA</td><td>VA</td><td>Norfolk</td><td>Norfolk International</td><td>NULL</td><td>S</td><td>197539516</td><td>2014</td></tr><tr><td>92</td><td>YIP</td><td>GL</td><td>MI</td><td>Detroit</td><td>Willow Run</td><td>NULL</td><td>-</td><td>194188703</td><td>2014</td></tr><tr><td>93</td><td>GFK</td><td>GL</td><td>ND</td><td>Grand Forks</td><td>Grand Forks International</td><td>NULL</td><td>N</td><td>192368533</td><td>2014</td></tr><tr><td>94</td><td>GTF</td><td>NM</td><td>MT</td><td>Great Falls</td><td>Great Falls International</td><td>NULL</td><td>N</td><td>182509524</td><td>2014</td></tr><tr><td>95</td><td>BHM</td><td>SO</td><td>AL</td><td>Birmingham</td><td>Birmingham-Shuttlesworth International</td><td>NULL</td><td>S</td><td>176272280</td><td>2014</td></tr><tr><td>96</td><td>ITO</td><td>WP</td><td>HI</td><td>Hilo</td><td>Hilo International</td><td>NULL</td><td>S</td><td>172094600</td><td>2014</td></tr><tr><td>97</td><td>ALB</td><td>EA</td><td>NY</td><td>Albany</td><td>Albany International</td><td>NULL</td><td>S</td><td>164482420</td><td>2014</td></tr><tr><td>98</td><td>LGB</td><td>WP</td><td>CA</td><td>Long Beach</td><td>Long Beach /Daugherty Field/</td><td>NULL</td><td>S</td><td>164090566</td><td>2014</td></tr><tr><td>99</td><td>ABY</td><td>SO</td><td>GA</td><td>Albany</td><td>Southwest Georgia Regional</td><td>NULL</td><td>N</td><td>161221000</td><td>2014</td></tr><tr><td>100</td><td>BFM</td><td>SO</td><td>AL</td><td>Mobile</td><td>Mobile Downtown</td><td>NULL</td><td>-</td><td>159755964</td><td>2014</td></tr><tr><td>101</td><td>TUS</td><td>WP</td><td>AZ</td><td>Tucson</td><td>Tucson International</td><td>NULL</td><td>S</td><td>154876980</td><td>2014</td></tr><tr><td>102</td><td>LIT</td><td>SW</td><td>AR</td><td>Little Rock</td><td>Bill and Hillary Clinton National/Adams Field</td><td>NULL</td><td>S</td><td>146588078</td><td>2014</td></tr><tr><td>103</td><td>SWF</td><td>EA</td><td>NY</td><td>Newburgh</td><td>Stewart International</td><td>NULL</td><td>N</td><td>142854580</td><td>2014</td></tr><tr><td>104</td><td>PIE</td><td>SO</td><td>FL</td><td>Clearwater</td><td>St Pete-Clearwater International</td><td>NULL</td><td>S</td><td>135988000</td><td>2014</td></tr><tr><td>105</td><td>LAN</td><td>GL</td><td>MI</td><td>Clinton (Township of)</td><td>Capital Region International</td><td>NULL</td><td>N</td><td>129734692</td><td>2014</td></tr><tr><td>106</td><td>ROA</td><td>EA</td><td>VA</td><td>Roanoke</td><td>Roanoke Regional/Woodrum Field</td><td>NULL</td><td>N</td><td>128954840</td><td>2014</td></tr><tr><td>107</td><td>TOL</td><td>GL</td><td>OH</td><td>Toledo</td><td>Toledo Express</td><td>NULL</td><td>N</td><td>122077000</td><td>2014</td></tr><tr><td>108</td><td>RSW</td><td>SO</td><td>FL</td><td>Fort Myers</td><td>Southwest Florida International</td><td>NULL</td><td>M</td><td>119577700</td><td>2014</td></tr><tr><td>109</td><td>FAI</td><td>AL</td><td>AK</td><td>Fairbanks</td><td>Fairbanks International</td><td>NULL</td><td>S</td><td>119372978</td><td>2014</td></tr><tr><td>110</td><td>LIH</td><td>WP</td><td>HI</td><td>Lihue</td><td>Lihue</td><td>NULL</td><td>S</td><td>113432400</td><td>2014</td></tr><tr><td>111</td><td>PVD</td><td>NE</td><td>RI</td><td>Warwick</td><td>Theodore Francis Green State</td><td>NULL</td><td>M</td><td>109829000</td><td>2014</td></tr><tr><td>112</td><td>COS</td><td>NM</td><td>CO</td><td>Colorado Springs</td><td>City of Colorado Springs Municipal</td><td>NULL</td><td>S</td><td>108568776</td><td>2014</td></tr><tr><td>113</td><td>LFT</td><td>SW</td><td>LA</td><td>Lafayette</td><td>Lafayette Regional/Paul Fournet Field</td><td>NULL</td><td>N</td><td>107586000</td><td>2014</td></tr><tr><td>114</td><td>FAT</td><td>WP</td><td>CA</td><td>Fresno</td><td>Fresno Yosemite International</td><td>NULL</td><td>S</td><td>104627600</td><td>2014</td></tr><tr><td>115</td><td>SBN</td><td>GL</td><td>IN</td><td>South Bend</td><td>South Bend International</td><td>NULL</td><td>N</td><td>98951022</td><td>2014</td></tr><tr><td>116</td><td>GUM</td><td>WP</td><td>GU</td><td>Tamuning</td><td>Guam International</td><td>NULL</td><td>S</td><td>87446300</td><td>2014</td></tr><tr><td>117</td><td>FNT</td><td>GL</td><td>MI</td><td>Flint</td><td>Bishop International</td><td>NULL</td><td>S</td><td>83575526</td><td>2014</td></tr><tr><td>118</td><td>JAN</td><td>SO</td><td>MS</td><td>Jackson</td><td>Jackson-Medgar Wiley Evers International</td><td>NULL</td><td>S</td><td>76147866</td><td>2014</td></tr><tr><td>119</td><td>CHA</td><td>SO</td><td>TN</td><td>Chattanooga</td><td>Lovell Field</td><td>NULL</td><td>N</td><td>60371307</td><td>2014</td></tr><tr><td>120</td><td>DAY</td><td>GL</td><td>OH</td><td>Dayton</td><td>James M Cox Dayton International</td><td>NULL</td><td>S</td><td>52086800</td><td>2014</td></tr><tr><td>121</td><td>BGR</td><td>NE</td><td>ME</td><td>Bangor</td><td>Bangor International</td><td>NULL</td><td>N</td><td>22768983</td><td>2014</td></tr><tr><td>122</td><td>PSM</td><td>NE</td><td>NH</td><td>Portsmouth</td><td>Portsmouth International at Pease</td><td>NULL</td><td>N</td><td>19313869</td><td>2014</td></tr><tr><td>123</td><td>BRO</td><td>SW</td><td>TX</td><td>Brownsville</td><td>Brownsville/South Padre Island International</td><td>NULL</td><td>N</td><td>17886176</td><td>2014</td></tr><tr><td>124</td><td>RIV</td><td>WP</td><td>CA</td><td>Riverside</td><td>March ARB</td><td>NULL</td><td>-</td><td>9220000</td><td>2014</td></tr><tr><td>125</td><td>CIC</td><td>WP</td><td>CA</td><td>Chico</td><td>Chico Municipal</td><td>NULL</td><td>N</td><td>6476200</td><td>2014</td></tr><tr><td>126</td><td>GUP</td><td>SW</td><td>NM</td><td>Gallup</td><td>Gallup Municipal</td><td>NULL</td><td>-</td><td>4734240</td><td>2014</td></tr><tr><td>127</td><td>IWD</td><td>GL</td><td>MI</td><td>Ironwood</td><td>Gogebic-Iron County</td><td>NULL</td><td>-</td><td>4469000</td><td>2014</td></tr><tr><td>128</td><td>HKS</td><td>SO</td><td>MS</td><td>Jackson</td><td>Hawkins Field</td><td>NULL</td><td>-</td><td>2233501</td><td>2014</td></tr><tr><td>129</td><td>IAG</td><td>EA</td><td>NY</td><td>Niagara Falls</td><td>Niagara Falls International</td><td>NULL</td><td>N</td><td>1819238</td><td>2014</td></tr><tr><td>130</td><td>TCC</td><td>SW</td><td>NM</td><td>Tucumcari</td><td>Tucumcari Municipal</td><td>NULL</td><td>-</td><td>1419050</td><td>2014</td></tr><tr><td>131</td><td>VNY</td><td>WP</td><td>CA</td><td>Van Nuys</td><td>Van Nuys</td><td>NULL</td><td>-</td><td>422000</td><td>2014</td></tr><tr><td>9999</td><td>SCK</td><td>WP</td><td>CA</td><td>Stockton</td><td>Stockton Metropolitan</td><td>NULL</td><td>N</td><td>0</td><td>2014</td></tr></table>"
                    }
                }
            ],
            "execution_count": 18
        },
        {
            "cell_type": "code",
            "source": [
                "SELECT *\r\n",
                "FROM stg.faa_cargo;"
            ],
            "metadata": {
                "azdata_cell_guid": "3e13f7d7-a7a4-4278-be93-2deb23958c38"
            },
            "outputs": [],
            "execution_count": 13
        },
        {
            "cell_type": "markdown",
            "source": [
                "# Dimensions"
            ],
            "metadata": {
                "azdata_cell_guid": "9aa05778-1e7c-4e13-82b1-c6b6f3788dc4"
            }
        },
        {
            "cell_type": "markdown",
            "source": [
                "Create/alter dims stored procedure that adds on to faa.aiport_dims"
            ],
            "metadata": {
                "azdata_cell_guid": "5d4f12e5-bbaf-4876-a2ca-c656cf060b4c"
            }
        },
        {
            "cell_type": "code",
            "source": [
                "ALTER PROCEDURE [faa].[merge_cargo_dim]\r\n",
                "as\r\n",
                "\r\n",
                ";with cte as (\r\n",
                "\tselect ISNULL(RO, '--') AS RO, \r\n",
                "\t\tISNULL(ST, '--') AS ST, \r\n",
                "\t\tISNULL(Locid, '--') as Locid, \r\n",
                "\t\tISNULL(City, '--') as City, \r\n",
                "\t\tISNULL(Airportname, '--') as Airportname, \r\n",
                "\t\tISNULL(SL, '--') as SL, \r\n",
                "\t\tISNULL(Hub, '--') as Hub\r\n",
                "\tfrom Sandbox.Christy.faa_cargo\r\n",
                "    --from stg.faa_cargo\r\n",
                "\tgroup by RO, ST, Locid, City, Airportname, SL, Hub\r\n",
                ")\r\n",
                "MERGE  faa.airport_dims as target\r\n",
                "USING cte as source\r\n",
                "ON (\r\n",
                "\ttarget.ro = source.RO\r\n",
                "\tand target.st = source.ST\r\n",
                "\tand target.loc_id = source.Locid\r\n",
                "\tand target.city_name = source.City\r\n",
                "\tand target.airport_name = source.Airportname\r\n",
                "\tand target.sl = source.SL\r\n",
                "\tand target.hub = source.Hub\r\n",
                ")\r\n",
                "WHEN NOT MATCHED THEN \r\n",
                "INSERT (ro, st, loc_id, city_name, airport_name, sl, hub)\r\n",
                "VALUES (source.RO, \r\n",
                "\tsource.ST,\r\n",
                "\tsource.Locid,\r\n",
                "\tsource.City,\r\n",
                "\tsource.Airportname,\r\n",
                "\tsource.SL,\r\n",
                "\tsource.Hub\r\n",
                ");"
            ],
            "metadata": {
                "azdata_cell_guid": "8465a4cb-e255-42ee-94dc-7b4b8115df0d"
            },
            "outputs": [
                {
                    "output_type": "display_data",
                    "data": {
                        "text/html": "Commands completed successfully."
                    },
                    "metadata": {}
                },
                {
                    "output_type": "display_data",
                    "data": {
                        "text/html": "Total execution time: 00:00:00.014"
                    },
                    "metadata": {}
                }
            ],
            "execution_count": 14
        },
        {
            "cell_type": "markdown",
            "source": [
                "Run procedure"
            ],
            "metadata": {
                "azdata_cell_guid": "17c7d1b4-6d95-46fe-84c5-0dd981f56097"
            }
        },
        {
            "cell_type": "code",
            "source": [
                "Exec faa.merge_cargo_dim;"
            ],
            "metadata": {
                "azdata_cell_guid": "2cde3fdf-d8e0-4399-ae3f-ae0ac565c877"
            },
            "outputs": [
                {
                    "output_type": "display_data",
                    "data": {
                        "text/html": "(1 row affected)"
                    },
                    "metadata": {}
                },
                {
                    "output_type": "display_data",
                    "data": {
                        "text/html": "Total execution time: 00:00:00.068"
                    },
                    "metadata": {}
                }
            ],
            "execution_count": 15
        },
        {
            "cell_type": "markdown",
            "source": [
                "Check faa.airport_dim"
            ],
            "metadata": {
                "azdata_cell_guid": "ab0502e4-43b0-481b-b21c-4a6d7ea118e1"
            }
        },
        {
            "cell_type": "code",
            "source": [
                "SELECT *\r\n",
                "FROM Elmer.faa.airport_dims\r\n",
                "WHERE loc_id = 'MEM';"
            ],
            "metadata": {
                "azdata_cell_guid": "4e81fe5d-0974-4c08-bdbf-9dbe372b8236"
            },
            "outputs": [
                {
                    "output_type": "display_data",
                    "data": {
                        "text/html": "(3 rows affected)"
                    },
                    "metadata": {}
                },
                {
                    "output_type": "display_data",
                    "data": {
                        "text/html": "Total execution time: 00:00:00.120"
                    },
                    "metadata": {}
                },
                {
                    "output_type": "execute_result",
                    "metadata": {},
                    "execution_count": 2,
                    "data": {
                        "application/vnd.dataresource+json": {
                            "schema": {
                                "fields": [
                                    {
                                        "name": "airport_dim_id"
                                    },
                                    {
                                        "name": "ro"
                                    },
                                    {
                                        "name": "st"
                                    },
                                    {
                                        "name": "loc_id"
                                    },
                                    {
                                        "name": "city_name"
                                    },
                                    {
                                        "name": "airport_name"
                                    },
                                    {
                                        "name": "sl"
                                    },
                                    {
                                        "name": "hub"
                                    }
                                ]
                            },
                            "data": [
                                {
                                    "0": "816",
                                    "1": "SO",
                                    "2": "TN",
                                    "3": "MEM",
                                    "4": "Memphis",
                                    "5": "Memphis International",
                                    "6": "P",
                                    "7": "M"
                                },
                                {
                                    "0": "817",
                                    "1": "SO",
                                    "2": "TN",
                                    "3": "MEM",
                                    "4": "Memphis",
                                    "5": "Memphis International",
                                    "6": "P",
                                    "7": "S"
                                },
                                {
                                    "0": "1135",
                                    "1": "SO",
                                    "2": "TN",
                                    "3": "MEM",
                                    "4": "Memphis",
                                    "5": "Memphis International",
                                    "6": "--",
                                    "7": "M"
                                }
                            ]
                        },
                        "text/html": "<table><tr><th>airport_dim_id</th><th>ro</th><th>st</th><th>loc_id</th><th>city_name</th><th>airport_name</th><th>sl</th><th>hub</th></tr><tr><td>816</td><td>SO</td><td>TN</td><td>MEM</td><td>Memphis</td><td>Memphis International</td><td>P</td><td>M</td></tr><tr><td>817</td><td>SO</td><td>TN</td><td>MEM</td><td>Memphis</td><td>Memphis International</td><td>P</td><td>S</td></tr><tr><td>1135</td><td>SO</td><td>TN</td><td>MEM</td><td>Memphis</td><td>Memphis International</td><td>--</td><td>M</td></tr></table>"
                    }
                }
            ],
            "execution_count": 2
        },
        {
            "cell_type": "code",
            "source": [
                "SELECT *\r\n",
                "FROM Elmer.faa.cargo_facts\r\n",
                "WHERE data_year = '2015';"
            ],
            "metadata": {
                "azdata_cell_guid": "69ed2db1-a35b-402a-8673-601592c401f3"
            },
            "outputs": [
                {
                    "output_type": "display_data",
                    "data": {
                        "text/html": "(134 rows affected)"
                    },
                    "metadata": {}
                },
                {
                    "output_type": "display_data",
                    "data": {
                        "text/html": "Total execution time: 00:00:00.024"
                    },
                    "metadata": {}
                },
                {
                    "output_type": "execute_result",
                    "metadata": {},
                    "execution_count": 5,
                    "data": {
                        "application/vnd.dataresource+json": {
                            "schema": {
                                "fields": [
                                    {
                                        "name": "cargo_fact_id"
                                    },
                                    {
                                        "name": "airport_dim_id"
                                    },
                                    {
                                        "name": "data_year"
                                    },
                                    {
                                        "name": "landed_weight"
                                    }
                                ]
                            },
                            "data": [
                                {
                                    "0": "7",
                                    "1": "66",
                                    "2": "2015",
                                    "3": "17139250601"
                                },
                                {
                                    "0": "16",
                                    "1": "108",
                                    "2": "2015",
                                    "3": "133685593"
                                },
                                {
                                    "0": "25",
                                    "1": "238",
                                    "2": "2015",
                                    "3": "282204502"
                                },
                                {
                                    "0": "34",
                                    "1": "240",
                                    "2": "2015",
                                    "3": "461908212"
                                },
                                {
                                    "0": "38",
                                    "1": "257",
                                    "2": "2015",
                                    "3": "211148324"
                                },
                                {
                                    "0": "52",
                                    "1": "273",
                                    "2": "2015",
                                    "3": "503007188"
                                },
                                {
                                    "0": "61",
                                    "1": "275",
                                    "2": "2015",
                                    "3": "196625120"
                                },
                                {
                                    "0": "70",
                                    "1": "276",
                                    "2": "2015",
                                    "3": "326316652"
                                },
                                {
                                    "0": "79",
                                    "1": "297",
                                    "2": "2015",
                                    "3": "365487434"
                                },
                                {
                                    "0": "87",
                                    "1": "301",
                                    "2": "2015",
                                    "3": "520180931"
                                },
                                {
                                    "0": "96",
                                    "1": "306",
                                    "2": "2015",
                                    "3": "2890156090"
                                },
                                {
                                    "0": "105",
                                    "1": "313",
                                    "2": "2015",
                                    "3": "162823140"
                                },
                                {
                                    "0": "114",
                                    "1": "317",
                                    "2": "2015",
                                    "3": "299562419"
                                },
                                {
                                    "0": "117",
                                    "1": "323",
                                    "2": "2015",
                                    "3": "4998902"
                                },
                                {
                                    "0": "126",
                                    "1": "326",
                                    "2": "2015",
                                    "3": "3255916985"
                                },
                                {
                                    "0": "135",
                                    "1": "338",
                                    "2": "2015",
                                    "3": "252249876"
                                },
                                {
                                    "0": "142",
                                    "1": "341",
                                    "2": "2015",
                                    "3": "145465580"
                                },
                                {
                                    "0": "153",
                                    "1": "343",
                                    "2": "2015",
                                    "3": "330441704"
                                },
                                {
                                    "0": "156",
                                    "1": "344",
                                    "2": "2015",
                                    "3": "165979400"
                                },
                                {
                                    "0": "165",
                                    "1": "365",
                                    "2": "2015",
                                    "3": "323553252"
                                },
                                {
                                    "0": "174",
                                    "1": "366",
                                    "2": "2015",
                                    "3": "1901255804"
                                },
                                {
                                    "0": "183",
                                    "1": "367",
                                    "2": "2015",
                                    "3": "432456881"
                                },
                                {
                                    "0": "191",
                                    "1": "374",
                                    "2": "2015",
                                    "3": "481928116"
                                },
                                {
                                    "0": "200",
                                    "1": "378",
                                    "2": "2015",
                                    "3": "199228038"
                                },
                                {
                                    "0": "208",
                                    "1": "381",
                                    "2": "2015",
                                    "3": "414615016"
                                },
                                {
                                    "0": "217",
                                    "1": "383",
                                    "2": "2015",
                                    "3": "128517300"
                                },
                                {
                                    "0": "227",
                                    "1": "418",
                                    "2": "2015",
                                    "3": "9063649529"
                                },
                                {
                                    "0": "235",
                                    "1": "419",
                                    "2": "2015",
                                    "3": "147981860"
                                },
                                {
                                    "0": "244",
                                    "1": "421",
                                    "2": "2015",
                                    "3": "796201190"
                                },
                                {
                                    "0": "253",
                                    "1": "426",
                                    "2": "2015",
                                    "3": "193625000"
                                },
                                {
                                    "0": "262",
                                    "1": "429",
                                    "2": "2015",
                                    "3": "5324737760"
                                },
                                {
                                    "0": "267",
                                    "1": "432",
                                    "2": "2015",
                                    "3": "100331775"
                                },
                                {
                                    "0": "276",
                                    "1": "443",
                                    "2": "2015",
                                    "3": "685952990"
                                },
                                {
                                    "0": "286",
                                    "1": "448",
                                    "2": "2015",
                                    "3": "98561050"
                                },
                                {
                                    "0": "289",
                                    "1": "449",
                                    "2": "2015",
                                    "3": "232230640"
                                },
                                {
                                    "0": "302",
                                    "1": "455",
                                    "2": "2015",
                                    "3": "156226703"
                                },
                                {
                                    "0": "312",
                                    "1": "477",
                                    "2": "2015",
                                    "3": "985229001"
                                },
                                {
                                    "0": "328",
                                    "1": "490",
                                    "2": "2015",
                                    "3": "230035259"
                                },
                                {
                                    "0": "337",
                                    "1": "500",
                                    "2": "2015",
                                    "3": "393392936"
                                },
                                {
                                    "0": "346",
                                    "1": "503",
                                    "2": "2015",
                                    "3": "51282000"
                                },
                                {
                                    "0": "351",
                                    "1": "506",
                                    "2": "2015",
                                    "3": "920417207"
                                },
                                {
                                    "0": "360",
                                    "1": "508",
                                    "2": "2015",
                                    "3": "122077000"
                                },
                                {
                                    "0": "369",
                                    "1": "516",
                                    "2": "2015",
                                    "3": "377360749"
                                },
                                {
                                    "0": "381",
                                    "1": "530",
                                    "2": "2015",
                                    "3": "552959277"
                                },
                                {
                                    "0": "390",
                                    "1": "533",
                                    "2": "2015",
                                    "3": "797334070"
                                },
                                {
                                    "0": "399",
                                    "1": "538",
                                    "2": "2015",
                                    "3": "893960700"
                                },
                                {
                                    "0": "405",
                                    "1": "551",
                                    "2": "2015",
                                    "3": "27805952"
                                },
                                {
                                    "0": "417",
                                    "1": "562",
                                    "2": "2015",
                                    "3": "464074218"
                                },
                                {
                                    "0": "423",
                                    "1": "563",
                                    "2": "2015",
                                    "3": "4150623"
                                },
                                {
                                    "0": "431",
                                    "1": "568",
                                    "2": "2015",
                                    "3": "111913500"
                                },
                                {
                                    "0": "440",
                                    "1": "581",
                                    "2": "2015",
                                    "3": "107320000"
                                },
                                {
                                    "0": "449",
                                    "1": "582",
                                    "2": "2015",
                                    "3": "1363477626"
                                },
                                {
                                    "0": "458",
                                    "1": "598",
                                    "2": "2015",
                                    "3": "356462520"
                                },
                                {
                                    "0": "461",
                                    "1": "605",
                                    "2": "2015",
                                    "3": "321407810"
                                },
                                {
                                    "0": "470",
                                    "1": "613",
                                    "2": "2015",
                                    "3": "219688800"
                                },
                                {
                                    "0": "474",
                                    "1": "635",
                                    "2": "2015",
                                    "3": "1169146438"
                                },
                                {
                                    "0": "488",
                                    "1": "653",
                                    "2": "2015",
                                    "3": "1035206088"
                                },
                                {
                                    "0": "497",
                                    "1": "657",
                                    "2": "2015",
                                    "3": "833475382"
                                },
                                {
                                    "0": "506",
                                    "1": "664",
                                    "2": "2015",
                                    "3": "462528273"
                                },
                                {
                                    "0": "515",
                                    "1": "671",
                                    "2": "2015",
                                    "3": "1570011793"
                                },
                                {
                                    "0": "524",
                                    "1": "692",
                                    "2": "2015",
                                    "3": "177166860"
                                },
                                {
                                    "0": "533",
                                    "1": "694",
                                    "2": "2015",
                                    "3": "408275297"
                                },
                                {
                                    "0": "542",
                                    "1": "706",
                                    "2": "2015",
                                    "3": "483535440"
                                },
                                {
                                    "0": "551",
                                    "1": "708",
                                    "2": "2015",
                                    "3": "401128446"
                                },
                                {
                                    "0": "560",
                                    "1": "709",
                                    "2": "2015",
                                    "3": "874183950"
                                },
                                {
                                    "0": "569",
                                    "1": "710",
                                    "2": "2015",
                                    "3": "7630761702"
                                },
                                {
                                    "0": "573",
                                    "1": "718",
                                    "2": "2015",
                                    "3": "155321000"
                                },
                                {
                                    "0": "586",
                                    "1": "724",
                                    "2": "2015",
                                    "3": "120935300"
                                },
                                {
                                    "0": "595",
                                    "1": "733",
                                    "2": "2015",
                                    "3": "423882478"
                                },
                                {
                                    "0": "604",
                                    "1": "740",
                                    "2": "2015",
                                    "3": "144591000"
                                },
                                {
                                    "0": "613",
                                    "1": "744",
                                    "2": "2015",
                                    "3": "2458665543"
                                },
                                {
                                    "0": "622",
                                    "1": "755",
                                    "2": "2015",
                                    "3": "4019745706"
                                },
                                {
                                    "0": "631",
                                    "1": "762",
                                    "2": "2015",
                                    "3": "12057543654"
                                },
                                {
                                    "0": "640",
                                    "1": "770",
                                    "2": "2015",
                                    "3": "69537600"
                                },
                                {
                                    "0": "649",
                                    "1": "781",
                                    "2": "2015",
                                    "3": "378541098"
                                },
                                {
                                    "0": "658",
                                    "1": "785",
                                    "2": "2015",
                                    "3": "548015962"
                                },
                                {
                                    "0": "666",
                                    "1": "793",
                                    "2": "2015",
                                    "3": "446121017"
                                },
                                {
                                    "0": "675",
                                    "1": "795",
                                    "2": "2015",
                                    "3": "713335570"
                                },
                                {
                                    "0": "684",
                                    "1": "804",
                                    "2": "2015",
                                    "3": "1008603300"
                                },
                                {
                                    "0": "693",
                                    "1": "807",
                                    "2": "2015",
                                    "3": "388993146"
                                },
                                {
                                    "0": "702",
                                    "1": "808",
                                    "2": "2015",
                                    "3": "0"
                                },
                                {
                                    "0": "711",
                                    "1": "810",
                                    "2": "2015",
                                    "3": "222392195"
                                },
                                {
                                    "0": "720",
                                    "1": "813",
                                    "2": "2015",
                                    "3": "313285771"
                                },
                                {
                                    "0": "724",
                                    "1": "814",
                                    "2": "2015",
                                    "3": "56150740"
                                },
                                {
                                    "0": "733",
                                    "1": "817",
                                    "2": "2015",
                                    "3": "22679195919"
                                },
                                {
                                    "0": "741",
                                    "1": "821",
                                    "2": "2015",
                                    "3": "272041896"
                                },
                                {
                                    "0": "750",
                                    "1": "831",
                                    "2": "2015",
                                    "3": "151139549"
                                },
                                {
                                    "0": "755",
                                    "1": "840",
                                    "2": "2015",
                                    "3": "107562000"
                                },
                                {
                                    "0": "763",
                                    "1": "842",
                                    "2": "2015",
                                    "3": "310548264"
                                },
                                {
                                    "0": "772",
                                    "1": "843",
                                    "2": "2015",
                                    "3": "243664403"
                                },
                                {
                                    "0": "781",
                                    "1": "844",
                                    "2": "2015",
                                    "3": "579138962"
                                },
                                {
                                    "0": "790",
                                    "1": "860",
                                    "2": "2015",
                                    "3": "215269413"
                                },
                                {
                                    "0": "799",
                                    "1": "862",
                                    "2": "2015",
                                    "3": "314123247"
                                },
                                {
                                    "0": "808",
                                    "1": "867",
                                    "2": "2015",
                                    "3": "498446900"
                                },
                                {
                                    "0": "817",
                                    "1": "872",
                                    "2": "2015",
                                    "3": "18194698"
                                },
                                {
                                    "0": "820",
                                    "1": "877",
                                    "2": "2015",
                                    "3": "3328784075"
                                },
                                {
                                    "0": "834",
                                    "1": "881",
                                    "2": "2015",
                                    "3": "518866006"
                                },
                                {
                                    "0": "839",
                                    "1": "885",
                                    "2": "2015",
                                    "3": "241223650"
                                },
                                {
                                    "0": "852",
                                    "1": "887",
                                    "2": "2015",
                                    "3": "1746475356"
                                },
                                {
                                    "0": "861",
                                    "1": "888",
                                    "2": "2015",
                                    "3": "355210987"
                                },
                                {
                                    "0": "870",
                                    "1": "889",
                                    "2": "2015",
                                    "3": "428871493"
                                },
                                {
                                    "0": "879",
                                    "1": "894",
                                    "2": "2015",
                                    "3": "775121718"
                                },
                                {
                                    "0": "888",
                                    "1": "913",
                                    "2": "2015",
                                    "3": "1515738856"
                                },
                                {
                                    "0": "897",
                                    "1": "920",
                                    "2": "2015",
                                    "3": "159073280"
                                },
                                {
                                    "0": "900",
                                    "1": "931",
                                    "2": "2015",
                                    "3": "3237500"
                                },
                                {
                                    "0": "907",
                                    "1": "934",
                                    "2": "2015",
                                    "3": "105019500"
                                },
                                {
                                    "0": "916",
                                    "1": "940",
                                    "2": "2015",
                                    "3": "6585460219"
                                },
                                {
                                    "0": "923",
                                    "1": "941",
                                    "2": "2015",
                                    "3": "137384934"
                                },
                                {
                                    "0": "932",
                                    "1": "952",
                                    "2": "2015",
                                    "3": "3051610036"
                                },
                                {
                                    "0": "941",
                                    "1": "953",
                                    "2": "2015",
                                    "3": "2588841276"
                                },
                                {
                                    "0": "950",
                                    "1": "959",
                                    "2": "2015",
                                    "3": "611257000"
                                },
                                {
                                    "0": "967",
                                    "1": "965",
                                    "2": "2015",
                                    "3": "1280669776"
                                },
                                {
                                    "0": "971",
                                    "1": "966",
                                    "2": "2015",
                                    "3": "244737142"
                                },
                                {
                                    "0": "985",
                                    "1": "968",
                                    "2": "2015",
                                    "3": "285329550"
                                },
                                {
                                    "0": "994",
                                    "1": "976",
                                    "2": "2015",
                                    "3": "76717500"
                                },
                                {
                                    "0": "1005",
                                    "1": "978",
                                    "2": "2015",
                                    "3": "2264820700"
                                },
                                {
                                    "0": "1012",
                                    "1": "980",
                                    "2": "2015",
                                    "3": "162187100"
                                },
                                {
                                    "0": "1021",
                                    "1": "983",
                                    "2": "2015",
                                    "3": "222408400"
                                },
                                {
                                    "0": "1029",
                                    "1": "984",
                                    "2": "2015",
                                    "3": "129646700"
                                },
                                {
                                    "0": "1038",
                                    "1": "989",
                                    "2": "2015",
                                    "3": "265611900"
                                },
                                {
                                    "0": "1047",
                                    "1": "1001",
                                    "2": "2015",
                                    "3": "348984610"
                                },
                                {
                                    "0": "1056",
                                    "1": "1003",
                                    "2": "2015",
                                    "3": "511550100"
                                },
                                {
                                    "0": "1070",
                                    "1": "1069",
                                    "2": "2015",
                                    "3": "4960500"
                                },
                                {
                                    "0": "1080",
                                    "1": "1073",
                                    "2": "2015",
                                    "3": "185931591"
                                },
                                {
                                    "0": "1083",
                                    "1": "1076",
                                    "2": "2015",
                                    "3": "24701617"
                                },
                                {
                                    "0": "1094",
                                    "1": "1103",
                                    "2": "2015",
                                    "3": "260828000"
                                },
                                {
                                    "0": "1103",
                                    "1": "1106",
                                    "2": "2015",
                                    "3": "146626250"
                                },
                                {
                                    "0": "1113",
                                    "1": "1122",
                                    "2": "2015",
                                    "3": "0"
                                },
                                {
                                    "0": "1120",
                                    "1": "1145",
                                    "2": "2015",
                                    "3": "4202425"
                                },
                                {
                                    "0": "1126",
                                    "1": "1147",
                                    "2": "2015",
                                    "3": "1439700"
                                },
                                {
                                    "0": "1135",
                                    "1": "1151",
                                    "2": "2015",
                                    "3": "775382804"
                                },
                                {
                                    "0": "1148",
                                    "1": "1171",
                                    "2": "2015",
                                    "3": "381297200"
                                },
                                {
                                    "0": "1155",
                                    "1": "1175",
                                    "2": "2015",
                                    "3": "7140000"
                                },
                                {
                                    "0": "1164",
                                    "1": "1183",
                                    "2": "2015",
                                    "3": "66000"
                                }
                            ]
                        },
                        "text/html": "<table><tr><th>cargo_fact_id</th><th>airport_dim_id</th><th>data_year</th><th>landed_weight</th></tr><tr><td>7</td><td>66</td><td>2015</td><td>17139250601</td></tr><tr><td>16</td><td>108</td><td>2015</td><td>133685593</td></tr><tr><td>25</td><td>238</td><td>2015</td><td>282204502</td></tr><tr><td>34</td><td>240</td><td>2015</td><td>461908212</td></tr><tr><td>38</td><td>257</td><td>2015</td><td>211148324</td></tr><tr><td>52</td><td>273</td><td>2015</td><td>503007188</td></tr><tr><td>61</td><td>275</td><td>2015</td><td>196625120</td></tr><tr><td>70</td><td>276</td><td>2015</td><td>326316652</td></tr><tr><td>79</td><td>297</td><td>2015</td><td>365487434</td></tr><tr><td>87</td><td>301</td><td>2015</td><td>520180931</td></tr><tr><td>96</td><td>306</td><td>2015</td><td>2890156090</td></tr><tr><td>105</td><td>313</td><td>2015</td><td>162823140</td></tr><tr><td>114</td><td>317</td><td>2015</td><td>299562419</td></tr><tr><td>117</td><td>323</td><td>2015</td><td>4998902</td></tr><tr><td>126</td><td>326</td><td>2015</td><td>3255916985</td></tr><tr><td>135</td><td>338</td><td>2015</td><td>252249876</td></tr><tr><td>142</td><td>341</td><td>2015</td><td>145465580</td></tr><tr><td>153</td><td>343</td><td>2015</td><td>330441704</td></tr><tr><td>156</td><td>344</td><td>2015</td><td>165979400</td></tr><tr><td>165</td><td>365</td><td>2015</td><td>323553252</td></tr><tr><td>174</td><td>366</td><td>2015</td><td>1901255804</td></tr><tr><td>183</td><td>367</td><td>2015</td><td>432456881</td></tr><tr><td>191</td><td>374</td><td>2015</td><td>481928116</td></tr><tr><td>200</td><td>378</td><td>2015</td><td>199228038</td></tr><tr><td>208</td><td>381</td><td>2015</td><td>414615016</td></tr><tr><td>217</td><td>383</td><td>2015</td><td>128517300</td></tr><tr><td>227</td><td>418</td><td>2015</td><td>9063649529</td></tr><tr><td>235</td><td>419</td><td>2015</td><td>147981860</td></tr><tr><td>244</td><td>421</td><td>2015</td><td>796201190</td></tr><tr><td>253</td><td>426</td><td>2015</td><td>193625000</td></tr><tr><td>262</td><td>429</td><td>2015</td><td>5324737760</td></tr><tr><td>267</td><td>432</td><td>2015</td><td>100331775</td></tr><tr><td>276</td><td>443</td><td>2015</td><td>685952990</td></tr><tr><td>286</td><td>448</td><td>2015</td><td>98561050</td></tr><tr><td>289</td><td>449</td><td>2015</td><td>232230640</td></tr><tr><td>302</td><td>455</td><td>2015</td><td>156226703</td></tr><tr><td>312</td><td>477</td><td>2015</td><td>985229001</td></tr><tr><td>328</td><td>490</td><td>2015</td><td>230035259</td></tr><tr><td>337</td><td>500</td><td>2015</td><td>393392936</td></tr><tr><td>346</td><td>503</td><td>2015</td><td>51282000</td></tr><tr><td>351</td><td>506</td><td>2015</td><td>920417207</td></tr><tr><td>360</td><td>508</td><td>2015</td><td>122077000</td></tr><tr><td>369</td><td>516</td><td>2015</td><td>377360749</td></tr><tr><td>381</td><td>530</td><td>2015</td><td>552959277</td></tr><tr><td>390</td><td>533</td><td>2015</td><td>797334070</td></tr><tr><td>399</td><td>538</td><td>2015</td><td>893960700</td></tr><tr><td>405</td><td>551</td><td>2015</td><td>27805952</td></tr><tr><td>417</td><td>562</td><td>2015</td><td>464074218</td></tr><tr><td>423</td><td>563</td><td>2015</td><td>4150623</td></tr><tr><td>431</td><td>568</td><td>2015</td><td>111913500</td></tr><tr><td>440</td><td>581</td><td>2015</td><td>107320000</td></tr><tr><td>449</td><td>582</td><td>2015</td><td>1363477626</td></tr><tr><td>458</td><td>598</td><td>2015</td><td>356462520</td></tr><tr><td>461</td><td>605</td><td>2015</td><td>321407810</td></tr><tr><td>470</td><td>613</td><td>2015</td><td>219688800</td></tr><tr><td>474</td><td>635</td><td>2015</td><td>1169146438</td></tr><tr><td>488</td><td>653</td><td>2015</td><td>1035206088</td></tr><tr><td>497</td><td>657</td><td>2015</td><td>833475382</td></tr><tr><td>506</td><td>664</td><td>2015</td><td>462528273</td></tr><tr><td>515</td><td>671</td><td>2015</td><td>1570011793</td></tr><tr><td>524</td><td>692</td><td>2015</td><td>177166860</td></tr><tr><td>533</td><td>694</td><td>2015</td><td>408275297</td></tr><tr><td>542</td><td>706</td><td>2015</td><td>483535440</td></tr><tr><td>551</td><td>708</td><td>2015</td><td>401128446</td></tr><tr><td>560</td><td>709</td><td>2015</td><td>874183950</td></tr><tr><td>569</td><td>710</td><td>2015</td><td>7630761702</td></tr><tr><td>573</td><td>718</td><td>2015</td><td>155321000</td></tr><tr><td>586</td><td>724</td><td>2015</td><td>120935300</td></tr><tr><td>595</td><td>733</td><td>2015</td><td>423882478</td></tr><tr><td>604</td><td>740</td><td>2015</td><td>144591000</td></tr><tr><td>613</td><td>744</td><td>2015</td><td>2458665543</td></tr><tr><td>622</td><td>755</td><td>2015</td><td>4019745706</td></tr><tr><td>631</td><td>762</td><td>2015</td><td>12057543654</td></tr><tr><td>640</td><td>770</td><td>2015</td><td>69537600</td></tr><tr><td>649</td><td>781</td><td>2015</td><td>378541098</td></tr><tr><td>658</td><td>785</td><td>2015</td><td>548015962</td></tr><tr><td>666</td><td>793</td><td>2015</td><td>446121017</td></tr><tr><td>675</td><td>795</td><td>2015</td><td>713335570</td></tr><tr><td>684</td><td>804</td><td>2015</td><td>1008603300</td></tr><tr><td>693</td><td>807</td><td>2015</td><td>388993146</td></tr><tr><td>702</td><td>808</td><td>2015</td><td>0</td></tr><tr><td>711</td><td>810</td><td>2015</td><td>222392195</td></tr><tr><td>720</td><td>813</td><td>2015</td><td>313285771</td></tr><tr><td>724</td><td>814</td><td>2015</td><td>56150740</td></tr><tr><td>733</td><td>817</td><td>2015</td><td>22679195919</td></tr><tr><td>741</td><td>821</td><td>2015</td><td>272041896</td></tr><tr><td>750</td><td>831</td><td>2015</td><td>151139549</td></tr><tr><td>755</td><td>840</td><td>2015</td><td>107562000</td></tr><tr><td>763</td><td>842</td><td>2015</td><td>310548264</td></tr><tr><td>772</td><td>843</td><td>2015</td><td>243664403</td></tr><tr><td>781</td><td>844</td><td>2015</td><td>579138962</td></tr><tr><td>790</td><td>860</td><td>2015</td><td>215269413</td></tr><tr><td>799</td><td>862</td><td>2015</td><td>314123247</td></tr><tr><td>808</td><td>867</td><td>2015</td><td>498446900</td></tr><tr><td>817</td><td>872</td><td>2015</td><td>18194698</td></tr><tr><td>820</td><td>877</td><td>2015</td><td>3328784075</td></tr><tr><td>834</td><td>881</td><td>2015</td><td>518866006</td></tr><tr><td>839</td><td>885</td><td>2015</td><td>241223650</td></tr><tr><td>852</td><td>887</td><td>2015</td><td>1746475356</td></tr><tr><td>861</td><td>888</td><td>2015</td><td>355210987</td></tr><tr><td>870</td><td>889</td><td>2015</td><td>428871493</td></tr><tr><td>879</td><td>894</td><td>2015</td><td>775121718</td></tr><tr><td>888</td><td>913</td><td>2015</td><td>1515738856</td></tr><tr><td>897</td><td>920</td><td>2015</td><td>159073280</td></tr><tr><td>900</td><td>931</td><td>2015</td><td>3237500</td></tr><tr><td>907</td><td>934</td><td>2015</td><td>105019500</td></tr><tr><td>916</td><td>940</td><td>2015</td><td>6585460219</td></tr><tr><td>923</td><td>941</td><td>2015</td><td>137384934</td></tr><tr><td>932</td><td>952</td><td>2015</td><td>3051610036</td></tr><tr><td>941</td><td>953</td><td>2015</td><td>2588841276</td></tr><tr><td>950</td><td>959</td><td>2015</td><td>611257000</td></tr><tr><td>967</td><td>965</td><td>2015</td><td>1280669776</td></tr><tr><td>971</td><td>966</td><td>2015</td><td>244737142</td></tr><tr><td>985</td><td>968</td><td>2015</td><td>285329550</td></tr><tr><td>994</td><td>976</td><td>2015</td><td>76717500</td></tr><tr><td>1005</td><td>978</td><td>2015</td><td>2264820700</td></tr><tr><td>1012</td><td>980</td><td>2015</td><td>162187100</td></tr><tr><td>1021</td><td>983</td><td>2015</td><td>222408400</td></tr><tr><td>1029</td><td>984</td><td>2015</td><td>129646700</td></tr><tr><td>1038</td><td>989</td><td>2015</td><td>265611900</td></tr><tr><td>1047</td><td>1001</td><td>2015</td><td>348984610</td></tr><tr><td>1056</td><td>1003</td><td>2015</td><td>511550100</td></tr><tr><td>1070</td><td>1069</td><td>2015</td><td>4960500</td></tr><tr><td>1080</td><td>1073</td><td>2015</td><td>185931591</td></tr><tr><td>1083</td><td>1076</td><td>2015</td><td>24701617</td></tr><tr><td>1094</td><td>1103</td><td>2015</td><td>260828000</td></tr><tr><td>1103</td><td>1106</td><td>2015</td><td>146626250</td></tr><tr><td>1113</td><td>1122</td><td>2015</td><td>0</td></tr><tr><td>1120</td><td>1145</td><td>2015</td><td>4202425</td></tr><tr><td>1126</td><td>1147</td><td>2015</td><td>1439700</td></tr><tr><td>1135</td><td>1151</td><td>2015</td><td>775382804</td></tr><tr><td>1148</td><td>1171</td><td>2015</td><td>381297200</td></tr><tr><td>1155</td><td>1175</td><td>2015</td><td>7140000</td></tr><tr><td>1164</td><td>1183</td><td>2015</td><td>66000</td></tr></table>"
                    }
                }
            ],
            "execution_count": 5
        },
        {
            "cell_type": "markdown",
            "source": [
                "# Facts"
            ],
            "metadata": {
                "azdata_cell_guid": "f38c26c0-afb7-421b-a500-b9d6868f368c"
            }
        },
        {
            "cell_type": "markdown",
            "source": [
                "Create Facts table"
            ],
            "metadata": {
                "azdata_cell_guid": "20aa88b4-6784-431a-862b-c6411055451b"
            }
        },
        {
            "cell_type": "code",
            "source": [
                "CREATE TABLE [faa].[cargo_facts](\r\n",
                "\t[cargo_fact_id] [int] IDENTITY(1,1) NOT NULL,\r\n",
                "\t[airport_dim_id] [int] NOT NULL,\r\n",
                "\t[data_year] [smallint] NOT NULL,\r\n",
                "\t[landed_weight] [float] NOT NULL,\r\n",
                " CONSTRAINT [pk_cargo_facts] PRIMARY KEY NONCLUSTERED \r\n",
                "(\r\n",
                "\t[airport_dim_id] ASC,\r\n",
                "\t[data_year] ASC\r\n",
                ")WITH (PAD_INDEX = OFF, STATISTICS_NORECOMPUTE = OFF, IGNORE_DUP_KEY = OFF, ALLOW_ROW_LOCKS = ON, ALLOW_PAGE_LOCKS = ON) ON [PRIMARY]\r\n",
                ") ON [PRIMARY]\r\n",
                "GO\r\n",
                "CREATE CLUSTERED INDEX [idx_cargo_facts_clustered] ON [faa].[cargo_facts]\r\n",
                "(\r\n",
                "\t[cargo_fact_id] ASC\r\n",
                ")WITH (PAD_INDEX = OFF, STATISTICS_NORECOMPUTE = OFF, SORT_IN_TEMPDB = OFF, DROP_EXISTING = OFF, ONLINE = OFF, ALLOW_ROW_LOCKS = ON, ALLOW_PAGE_LOCKS = ON) ON [PRIMARY]\r\n",
                "GO"
            ],
            "metadata": {
                "azdata_cell_guid": "eaf4e24f-43ce-4b57-aeb6-f6cc08606531"
            },
            "outputs": [
                {
                    "output_type": "error",
                    "ename": "",
                    "evalue": "Msg 2714, Level 16, State 6, Line 1\r\nThere is already an object named 'cargo_facts' in the database.",
                    "traceback": []
                },
                {
                    "output_type": "display_data",
                    "data": {
                        "text/html": "Commands completed successfully."
                    },
                    "metadata": {}
                },
                {
                    "output_type": "display_data",
                    "data": {
                        "text/html": "Total execution time: 00:00:00.027"
                    },
                    "metadata": {}
                }
            ],
            "execution_count": 1
        },
        {
            "cell_type": "markdown",
            "source": [
                "Check empty table"
            ],
            "metadata": {
                "azdata_cell_guid": "3160624f-3512-44a3-85a5-6f3145510759"
            }
        },
        {
            "cell_type": "code",
            "source": [
                "SELECT * \r\n",
                "FROM Elmer.faa.cargo_facts;"
            ],
            "metadata": {
                "azdata_cell_guid": "457c3602-e6cd-4da6-9973-01ed8c335880"
            },
            "outputs": [
                {
                    "output_type": "display_data",
                    "data": {
                        "text/html": "(0 rows affected)"
                    },
                    "metadata": {}
                },
                {
                    "output_type": "display_data",
                    "data": {
                        "text/html": "Total execution time: 00:00:00.149"
                    },
                    "metadata": {}
                },
                {
                    "output_type": "execute_result",
                    "execution_count": 2,
                    "data": {
                        "application/vnd.dataresource+json": {
                            "schema": {
                                "fields": [
                                    {
                                        "name": "cargo_fact_id"
                                    },
                                    {
                                        "name": "airport_dim_id"
                                    },
                                    {
                                        "name": "data_year"
                                    },
                                    {
                                        "name": "landed_weight"
                                    }
                                ]
                            },
                            "data": []
                        },
                        "text/html": "<table><tr><th>cargo_fact_id</th><th>airport_dim_id</th><th>data_year</th><th>landed_weight</th></tr></table>"
                    },
                    "metadata": {}
                }
            ],
            "execution_count": 2
        },
        {
            "cell_type": "markdown",
            "source": [
                "#### Alter a stored procedure for merging FAA Cargo Facts"
            ],
            "metadata": {
                "azdata_cell_guid": "770d462b-3c92-4caa-87e4-26407b68e313"
            }
        },
        {
            "cell_type": "code",
            "source": [
                "ALTER PROCEDURE [faa].[merge_cargo_facts] \r\n",
                "as\r\n",
                "\r\n",
                ";with cte as (\r\n",
                "\tselect ad.airport_dim_id, fe.landed_weight, fe.year\r\n",
                "    from stg.faa_cargo as fe \r\n",
                "\t--from Sandbox.Christy.faa_cargo as fe\r\n",
                "        INNER JOIN Elmer.faa.airport_dims as ad\r\n",
                "        ON fe.RO = ad.ro\r\n",
                "        and fe.ST = ad.st\r\n",
                "        and fe.Locid = ad.loc_id\r\n",
                "        and fe.City = ad.city_name\r\n",
                "        and fe.Airportname = ad.airport_name\r\n",
                "        and ISNULL(fe.SL, '--') = ad.sl\r\n",
                "        and ISNULL(fe.Hub, '--') = ad.hub\r\n",
                ")\r\n",
                "MERGE faa.cargo_facts as target\r\n",
                "USING cte as source\r\n",
                "ON (target.airport_dim_id = source.airport_dim_id\r\n",
                "\tand target.landed_weight = source.landed_weight\r\n",
                "\tand target.data_year = source.year\r\n",
                ")\r\n",
                "WHEN NOT MATCHED THEN \r\n",
                "INSERT (airport_dim_id, data_year, landed_weight)\r\n",
                "VALUES (source.airport_dim_id,\r\n",
                "    source.year, \r\n",
                "\tsource.landed_weight\r\n",
                ");"
            ],
            "metadata": {
                "azdata_cell_guid": "08eeb3bb-eed3-4b3d-808a-7d32573bb4e7"
            },
            "outputs": [
                {
                    "output_type": "display_data",
                    "data": {
                        "text/html": "Commands completed successfully."
                    },
                    "metadata": {}
                },
                {
                    "output_type": "display_data",
                    "data": {
                        "text/html": "Total execution time: 00:00:00.013"
                    },
                    "metadata": {}
                }
            ],
            "execution_count": 21
        },
        {
            "cell_type": "markdown",
            "source": [
                "Run stored procedure"
            ],
            "metadata": {
                "azdata_cell_guid": "1bc97b0f-4ae5-493a-a910-adf9262e4e99"
            }
        },
        {
            "cell_type": "code",
            "source": [
                "EXEC faa.merge_cargo_facts;"
            ],
            "metadata": {
                "azdata_cell_guid": "d3da11bc-81b4-4597-8098-035a21cf6695"
            },
            "outputs": [
                {
                    "output_type": "display_data",
                    "data": {
                        "text/html": "(132 rows affected)"
                    },
                    "metadata": {}
                },
                {
                    "output_type": "display_data",
                    "data": {
                        "text/html": "Total execution time: 00:00:00.051"
                    },
                    "metadata": {}
                }
            ],
            "execution_count": 22
        },
        {
            "cell_type": "code",
            "source": [
                "SELECT ad.*, cf.*\r\n",
                "FROM faa.cargo_facts as cf \r\n",
                "JOIN faa.airport_dims as ad\r\n",
                "ON cf.airport_dim_id = ad.airport_dim_id\r\n",
                "WHERE data_year = '2014';\r\n",
                "--WHERE city_name = 'Memphis';"
            ],
            "metadata": {
                "azdata_cell_guid": "9125e0e9-b42b-42bd-b20c-774943ca9ea6"
            },
            "outputs": [
                {
                    "output_type": "display_data",
                    "data": {
                        "text/html": "(0 rows affected)"
                    },
                    "metadata": {}
                },
                {
                    "output_type": "display_data",
                    "data": {
                        "text/html": "Total execution time: 00:00:00.020"
                    },
                    "metadata": {}
                },
                {
                    "output_type": "execute_result",
                    "execution_count": 6,
                    "data": {
                        "application/vnd.dataresource+json": {
                            "schema": {
                                "fields": [
                                    {
                                        "name": "airport_dim_id"
                                    },
                                    {
                                        "name": "ro"
                                    },
                                    {
                                        "name": "st"
                                    },
                                    {
                                        "name": "loc_id"
                                    },
                                    {
                                        "name": "city_name"
                                    },
                                    {
                                        "name": "airport_name"
                                    },
                                    {
                                        "name": "sl"
                                    },
                                    {
                                        "name": "hub"
                                    },
                                    {
                                        "name": "cargo_fact_id"
                                    },
                                    {
                                        "name": "airport_dim_id"
                                    },
                                    {
                                        "name": "data_year"
                                    },
                                    {
                                        "name": "landed_weight"
                                    }
                                ]
                            },
                            "data": []
                        },
                        "text/html": "<table><tr><th>airport_dim_id</th><th>ro</th><th>st</th><th>loc_id</th><th>city_name</th><th>airport_name</th><th>sl</th><th>hub</th><th>cargo_fact_id</th><th>airport_dim_id</th><th>data_year</th><th>landed_weight</th></tr></table>"
                    },
                    "metadata": {}
                }
            ],
            "execution_count": 6
        },
        {
            "cell_type": "code",
            "source": [
                "SELECT *\n",
                "FROM faa.cargo_facts\n",
                "WHERE data_year = '2014';"
            ],
            "metadata": {
                "azdata_cell_guid": "cd6f35f1-1256-4edb-a16c-c6b2f34930ea"
            },
            "outputs": [
                {
                    "output_type": "display_data",
                    "data": {
                        "text/html": "(0 rows affected)"
                    },
                    "metadata": {}
                },
                {
                    "output_type": "display_data",
                    "data": {
                        "text/html": "Total execution time: 00:00:00.015"
                    },
                    "metadata": {}
                },
                {
                    "output_type": "execute_result",
                    "execution_count": 8,
                    "data": {
                        "application/vnd.dataresource+json": {
                            "schema": {
                                "fields": [
                                    {
                                        "name": "cargo_fact_id"
                                    },
                                    {
                                        "name": "airport_dim_id"
                                    },
                                    {
                                        "name": "data_year"
                                    },
                                    {
                                        "name": "landed_weight"
                                    }
                                ]
                            },
                            "data": []
                        },
                        "text/html": "<table><tr><th>cargo_fact_id</th><th>airport_dim_id</th><th>data_year</th><th>landed_weight</th></tr></table>"
                    },
                    "metadata": {}
                }
            ],
            "execution_count": 8
        },
        {
            "cell_type": "code",
            "source": [
                "USE Elmer"
            ],
            "metadata": {
                "azdata_cell_guid": "0c6725c7-90ce-4730-9c69-1b9bade3bea3"
            },
            "outputs": [
                {
                    "output_type": "display_data",
                    "data": {
                        "text/html": "Commands completed successfully."
                    },
                    "metadata": {}
                },
                {
                    "output_type": "display_data",
                    "data": {
                        "text/html": "Total execution time: 00:00:00.010"
                    },
                    "metadata": {}
                }
            ],
            "execution_count": 20
        }
    ]
}