{
    "metadata": {
        "kernelspec": {
            "name": "SQL",
            "display_name": "SQL",
            "language": "sql"
        },
        "language_info": {
            "name": "sql",
            "version": ""
        }
    },
    "nbformat_minor": 2,
    "nbformat": 4,
    "cells": [
        {
            "cell_type": "markdown",
            "source": [
                "#### Initializing Dims and Facts (once only)\r\n",
                "* Create empty tables\r\n",
                "* Create dims, facts stored procedures\r\n",
                "* Execute dims, facts stored procedures\r\n",
                "\r\n",
                "#### Updating Dims and Facts with new data\r\n",
                "* Run R script to prep data for staging area ([elmer_prep_faa_enplanements.R](https://github.com/psrc/trends-airports/blob/master/elmer/elmer_prep_faa_enplanements.R))\r\n",
                "* Execute dims stored procedures\r\n",
                "* Execute facts stored procedures\r\n",
                ""
            ],
            "metadata": {
                "azdata_cell_guid": "8237759d-2727-48ea-94b5-b156d4394ce1"
            }
        },
        {
            "cell_type": "code",
            "source": [
                "SELECT top 10 *\r\n",
                "FROM Sandbox.Christy.faa_enplanements;"
            ],
            "metadata": {
                "azdata_cell_guid": "53201620-fd5e-4392-84bc-4c4f6146ad59"
            },
            "outputs": [],
            "execution_count": 9
        },
        {
            "cell_type": "code",
            "source": [
                "SELECT DISTINCT [year]\r\n",
                "FROM Sandbox.Christy.faa_enplanements\r\n",
                "ORDER BY [year];"
            ],
            "metadata": {
                "azdata_cell_guid": "64ac5f97-952e-4da6-83d7-950f0ab0e0a8"
            },
            "outputs": [
                {
                    "output_type": "display_data",
                    "data": {
                        "text/html": "(12 rows affected)"
                    },
                    "metadata": {}
                },
                {
                    "output_type": "display_data",
                    "data": {
                        "text/html": "Total execution time: 00:00:00.212"
                    },
                    "metadata": {}
                },
                {
                    "output_type": "execute_result",
                    "execution_count": 1,
                    "data": {
                        "application/vnd.dataresource+json": {
                            "schema": {
                                "fields": [
                                    {
                                        "name": "year"
                                    }
                                ]
                            },
                            "data": [
                                {
                                    "0": "2006"
                                },
                                {
                                    "0": "2007"
                                },
                                {
                                    "0": "2008"
                                },
                                {
                                    "0": "2009"
                                },
                                {
                                    "0": "2010"
                                },
                                {
                                    "0": "2011"
                                },
                                {
                                    "0": "2012"
                                },
                                {
                                    "0": "2013"
                                },
                                {
                                    "0": "2014"
                                },
                                {
                                    "0": "2015"
                                },
                                {
                                    "0": "2016"
                                },
                                {
                                    "0": "2017"
                                }
                            ]
                        },
                        "text/html": "<table><tr><th>year</th></tr><tr><td>2006</td></tr><tr><td>2007</td></tr><tr><td>2008</td></tr><tr><td>2009</td></tr><tr><td>2010</td></tr><tr><td>2011</td></tr><tr><td>2012</td></tr><tr><td>2013</td></tr><tr><td>2014</td></tr><tr><td>2015</td></tr><tr><td>2016</td></tr><tr><td>2017</td></tr></table>"
                    },
                    "metadata": {}
                }
            ],
            "execution_count": 1
        },
        {
            "cell_type": "code",
            "source": [
                "USE Elmer\n",
                "SELECT ad.*, ef.*\n",
                "FROM faa.airport_dims as ad\n",
                "JOIN faa.enplanement_facts as ef\n",
                "ON ad.airport_dim_id = ef.airport_dim_id\n",
                "WHERE city_name = 'Atlanta';"
            ],
            "metadata": {
                "azdata_cell_guid": "6f76fc48-d82e-4ba0-b275-6ce427c93ae6"
            },
            "outputs": [],
            "execution_count": 5
        },
        {
            "cell_type": "markdown",
            "source": [
                "# Dimensions"
            ],
            "metadata": {
                "azdata_cell_guid": "1097b4c9-f37c-4939-8c41-f208895ed082"
            }
        },
        {
            "cell_type": "markdown",
            "source": [
                "#### Alter dimensions stored procedure"
            ],
            "metadata": {
                "azdata_cell_guid": "d95c2bd7-acf8-49a6-b825-45fc38fce0f5"
            }
        },
        {
            "cell_type": "code",
            "source": [
                "ALTER PROCEDURE [faa].[merge_enplanements_dim] \r\n",
                "as\r\n",
                "\r\n",
                ";with cte as (\r\n",
                "\tselect ISNULL(RO, '--') AS RO, \r\n",
                "\t\tISNULL(ST, '--') AS ST, \r\n",
                "\t\tISNULL(Locid, '--') as Locid, \r\n",
                "\t\tISNULL(City, '--') as City, \r\n",
                "\t\tISNULL(Airportname, '--') as Airportname, \r\n",
                "\t\tISNULL(SL, '--') as SL, \r\n",
                "\t\tISNULL(Hub, '--') as Hub\r\n",
                "\t--from Sandbox.Christy.faa_enplanements\r\n",
                "    from stg.faa_enplanements\r\n",
                "\tgroup by RO, ST, Locid, City, Airportname, SL, Hub\r\n",
                ")\r\n",
                "MERGE  faa.airport_dims as target\r\n",
                "USING cte as source\r\n",
                "ON (\r\n",
                "\ttarget.ro = source.RO\r\n",
                "\tand target.st = source.ST\r\n",
                "\tand target.loc_id = source.Locid\r\n",
                "\tand target.city_name = source.City\r\n",
                "\tand target.airport_name = source.Airportname\r\n",
                "\tand target.sl = source.SL\r\n",
                "\tand target.hub = source.Hub\r\n",
                ")\r\n",
                "WHEN NOT MATCHED THEN \r\n",
                "INSERT (ro, st, loc_id, city_name, airport_name, sl, hub)\r\n",
                "VALUES (source.RO, \r\n",
                "\tsource.ST,\r\n",
                "\tsource.Locid,\r\n",
                "\tsource.City,\r\n",
                "\tsource.Airportname,\r\n",
                "\tsource.SL,\r\n",
                "\tsource.Hub\r\n",
                ");"
            ],
            "metadata": {
                "azdata_cell_guid": "95316c0d-02cc-472d-a246-562ec8ecd7f0"
            },
            "outputs": [],
            "execution_count": 0
        },
        {
            "cell_type": "markdown",
            "source": [
                "Create/update dim table"
            ],
            "metadata": {
                "azdata_cell_guid": "773089e5-3ec5-417f-99d5-8aefe2fff936"
            }
        },
        {
            "cell_type": "code",
            "source": [
                "EXEC faa.merge_enplanements_dim"
            ],
            "metadata": {
                "azdata_cell_guid": "315fdb0d-ec83-455c-9d93-1ccf2bf8717f"
            },
            "outputs": [],
            "execution_count": 0
        },
        {
            "cell_type": "markdown",
            "source": [
                "Check dim table"
            ],
            "metadata": {
                "azdata_cell_guid": "a80777c8-d5e0-40a7-98b4-fddad160ba13"
            }
        },
        {
            "cell_type": "code",
            "source": [
                "SELECT *\r\n",
                "From Elmer.faa.airport_dims;"
            ],
            "metadata": {
                "azdata_cell_guid": "40f0f386-f36f-4047-8a8c-7218d98e09c3"
            },
            "outputs": [],
            "execution_count": 0
        },
        {
            "cell_type": "markdown",
            "source": [
                "# Facts"
            ],
            "metadata": {
                "azdata_cell_guid": "e87e43f5-1e7c-4496-b930-728e4fbf55e1"
            }
        },
        {
            "cell_type": "code",
            "source": [
                "SELECT *\r\n",
                "FROM Elmer.faa.enplanement_facts;"
            ],
            "metadata": {
                "azdata_cell_guid": "9b1f3917-6d90-4f8a-8440-1f37993f8146"
            },
            "outputs": [],
            "execution_count": 4
        },
        {
            "cell_type": "markdown",
            "source": [
                "Test join before creating stored procedure"
            ],
            "metadata": {
                "azdata_cell_guid": "fab29629-90a8-4883-9d87-de1ac20400ee"
            }
        },
        {
            "cell_type": "code",
            "source": [
                "SELECT *\n",
                "from Christy.faa_enplanements as fe\r\n",
                "        INNER JOIN Elmer.faa.airport_dims as ad\r\n",
                "        ON fe.RO = ad.ro\r\n",
                "        and fe.ST = ad.st\r\n",
                "        and fe.Locid = ad.loc_id\r\n",
                "        and fe.City = ad.city_name\r\n",
                "        and fe.Airportname = ad.airport_name\r\n",
                "        and fe.SL = ad.sl\r\n",
                "        and fe.Hub = ad.hub"
            ],
            "metadata": {
                "azdata_cell_guid": "605b158e-aa6a-4ec9-b6ae-e3f4d15f8bd4"
            },
            "outputs": [],
            "execution_count": 15
        },
        {
            "cell_type": "markdown",
            "source": [
                "#### Alter a stored procedure for merging FAA Enplanements Facts"
            ],
            "metadata": {
                "azdata_cell_guid": "12320a85-4825-425d-b6e4-f0268cf076f5"
            }
        },
        {
            "cell_type": "code",
            "source": [
                "ALTER PROCEDURE [faa].[merge_enplanements_fact] \r\n",
                "as\r\n",
                "\r\n",
                ";with cte as (\r\n",
                "\tselect ad.airport_dim_id, fe.enplanements, fe.year\r\n",
                "    from stg.faa_enplanements as fe \r\n",
                "\t--from Sandbox.Christy.faa_enplanements as fe\r\n",
                "        INNER JOIN Elmer.faa.airport_dims as ad\r\n",
                "        ON fe.RO = ad.ro\r\n",
                "        and fe.ST = ad.st\r\n",
                "        and fe.Locid = ad.loc_id\r\n",
                "        and fe.City = ad.city_name\r\n",
                "        and fe.Airportname = ad.airport_name\r\n",
                "        and ISNULL(fe.SL, '--') = ad.sl\r\n",
                "        and ISNULL(fe.Hub, '--') = ad.hub\r\n",
                ")\r\n",
                "MERGE faa.enplanement_facts as target\r\n",
                "USING cte as source\r\n",
                "ON (target.airport_dim_id = source.airport_dim_id\r\n",
                "\tand target.enplanements = source.enplanements\r\n",
                "\tand target.data_year = source.year\r\n",
                ")\r\n",
                "WHEN NOT MATCHED THEN \r\n",
                "INSERT (airport_dim_id, data_year, enplanements)\r\n",
                "VALUES (source.airport_dim_id,\r\n",
                "    source.year, \r\n",
                "\tsource.enplanements\r\n",
                ");"
            ],
            "metadata": {
                "azdata_cell_guid": "62875617-4d51-453f-a273-bd6a5d7c4754"
            },
            "outputs": [
                {
                    "output_type": "display_data",
                    "data": {
                        "text/html": "Commands completed successfully."
                    },
                    "metadata": {}
                },
                {
                    "output_type": "display_data",
                    "data": {
                        "text/html": "Total execution time: 00:00:00.013"
                    },
                    "metadata": {}
                }
            ],
            "execution_count": 13
        },
        {
            "cell_type": "markdown",
            "source": [
                "Create/update the Fact table"
            ],
            "metadata": {
                "azdata_cell_guid": "966c9993-4b0d-4cb6-8ed4-6997a6008049"
            }
        },
        {
            "cell_type": "code",
            "source": [
                "EXEC faa.merge_enplanements_fact"
            ],
            "metadata": {
                "azdata_cell_guid": "ec2fbebd-7b50-4871-985e-32db53d3c2d3"
            },
            "outputs": [
                {
                    "output_type": "display_data",
                    "data": {
                        "text/html": "(518 rows affected)"
                    },
                    "metadata": {}
                },
                {
                    "output_type": "display_data",
                    "data": {
                        "text/html": "Total execution time: 00:00:00.056"
                    },
                    "metadata": {}
                }
            ],
            "execution_count": 14
        },
        {
            "cell_type": "markdown",
            "source": [
                "Check fact table"
            ],
            "metadata": {
                "azdata_cell_guid": "bc4c10b8-f24d-40de-81bc-f96db5953ce8"
            }
        },
        {
            "cell_type": "code",
            "source": [
                "SELECT *\r\n",
                "FROM faa.enplanement_facts;"
            ],
            "metadata": {
                "azdata_cell_guid": "c5215fc1-b872-421a-9a93-b87610ac5a63"
            },
            "outputs": [],
            "execution_count": 15
        },
        {
            "cell_type": "code",
            "source": [
                "USE Elmer"
            ],
            "metadata": {
                "azdata_cell_guid": "9213b7ba-24c3-40ea-894e-3def522245c0"
            },
            "outputs": [
                {
                    "output_type": "display_data",
                    "data": {
                        "text/html": "Commands completed successfully."
                    },
                    "metadata": {}
                },
                {
                    "output_type": "display_data",
                    "data": {
                        "text/html": "Total execution time: 00:00:00.010"
                    },
                    "metadata": {}
                }
            ],
            "execution_count": 5
        }
    ]
}